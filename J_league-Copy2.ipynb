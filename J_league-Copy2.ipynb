{
 "cells": [
  {
   "cell_type": "code",
   "execution_count": 1,
   "metadata": {},
   "outputs": [],
   "source": [
    "import pandas as pd\n",
    "import numpy as np\n",
    "from numpy import nan\n",
    "import matplotlib.pyplot as plt\n",
    "% matplotlib inline\n",
    "import seaborn as sns\n",
    "from sklearn import preprocessing"
   ]
  },
  {
   "cell_type": "code",
   "execution_count": 2,
   "metadata": {
    "scrolled": true
   },
   "outputs": [
    {
     "data": {
      "text/html": [
       "<div>\n",
       "<style scoped>\n",
       "    .dataframe tbody tr th:only-of-type {\n",
       "        vertical-align: middle;\n",
       "    }\n",
       "\n",
       "    .dataframe tbody tr th {\n",
       "        vertical-align: top;\n",
       "    }\n",
       "\n",
       "    .dataframe thead th {\n",
       "        text-align: right;\n",
       "    }\n",
       "</style>\n",
       "<table border=\"1\" class=\"dataframe\">\n",
       "  <thead>\n",
       "    <tr style=\"text-align: right;\">\n",
       "      <th></th>\n",
       "      <th>id</th>\n",
       "      <th>y</th>\n",
       "      <th>year</th>\n",
       "      <th>stage</th>\n",
       "      <th>match</th>\n",
       "      <th>gameday</th>\n",
       "      <th>time</th>\n",
       "      <th>home</th>\n",
       "      <th>away</th>\n",
       "      <th>stadium</th>\n",
       "      <th>...</th>\n",
       "      <th>away_04</th>\n",
       "      <th>away_05</th>\n",
       "      <th>away_06</th>\n",
       "      <th>away_07</th>\n",
       "      <th>away_08</th>\n",
       "      <th>away_09</th>\n",
       "      <th>away_10</th>\n",
       "      <th>away_11</th>\n",
       "      <th>address</th>\n",
       "      <th>capa</th>\n",
       "    </tr>\n",
       "  </thead>\n",
       "  <tbody>\n",
       "    <tr>\n",
       "      <th>0</th>\n",
       "      <td>13994</td>\n",
       "      <td>18250</td>\n",
       "      <td>2012</td>\n",
       "      <td>Ｊ１</td>\n",
       "      <td>第１節第１日</td>\n",
       "      <td>03/10(土)</td>\n",
       "      <td>14:04</td>\n",
       "      <td>ベガルタ仙台</td>\n",
       "      <td>鹿島アントラーズ</td>\n",
       "      <td>ユアテックスタジアム仙台</td>\n",
       "      <td>...</td>\n",
       "      <td>中田　浩二</td>\n",
       "      <td>アレックス</td>\n",
       "      <td>青木　剛</td>\n",
       "      <td>増田　誓志</td>\n",
       "      <td>小笠原　満男</td>\n",
       "      <td>本山　雅志</td>\n",
       "      <td>大迫　勇也</td>\n",
       "      <td>ジュニーニョ</td>\n",
       "      <td>宮城県仙台市泉区七北田字柳78</td>\n",
       "      <td>19694</td>\n",
       "    </tr>\n",
       "    <tr>\n",
       "      <th>1</th>\n",
       "      <td>13995</td>\n",
       "      <td>24316</td>\n",
       "      <td>2012</td>\n",
       "      <td>Ｊ１</td>\n",
       "      <td>第１節第１日</td>\n",
       "      <td>03/10(土)</td>\n",
       "      <td>14:04</td>\n",
       "      <td>名古屋グランパス</td>\n",
       "      <td>清水エスパルス</td>\n",
       "      <td>豊田スタジアム</td>\n",
       "      <td>...</td>\n",
       "      <td>カルフィン　ヨン　ア　ピン</td>\n",
       "      <td>李　記帝</td>\n",
       "      <td>村松　大輔</td>\n",
       "      <td>河井　陽介</td>\n",
       "      <td>枝村　匠馬</td>\n",
       "      <td>高木　俊幸</td>\n",
       "      <td>アレックス</td>\n",
       "      <td>大前　元紀</td>\n",
       "      <td>愛知県豊田市千石町7-2</td>\n",
       "      <td>40000</td>\n",
       "    </tr>\n",
       "    <tr>\n",
       "      <th>2</th>\n",
       "      <td>13996</td>\n",
       "      <td>17066</td>\n",
       "      <td>2012</td>\n",
       "      <td>Ｊ１</td>\n",
       "      <td>第１節第１日</td>\n",
       "      <td>03/10(土)</td>\n",
       "      <td>14:04</td>\n",
       "      <td>ガンバ大阪</td>\n",
       "      <td>ヴィッセル神戸</td>\n",
       "      <td>万博記念競技場</td>\n",
       "      <td>...</td>\n",
       "      <td>伊野波　雅彦</td>\n",
       "      <td>相馬　崇人</td>\n",
       "      <td>三原　雅俊</td>\n",
       "      <td>田中　英雄</td>\n",
       "      <td>野沢　拓也</td>\n",
       "      <td>橋本　英郎</td>\n",
       "      <td>森岡　亮太</td>\n",
       "      <td>大久保　嘉人</td>\n",
       "      <td>大阪府吹田市千里万博公園5-2</td>\n",
       "      <td>21000</td>\n",
       "    </tr>\n",
       "    <tr>\n",
       "      <th>3</th>\n",
       "      <td>13997</td>\n",
       "      <td>29603</td>\n",
       "      <td>2012</td>\n",
       "      <td>Ｊ１</td>\n",
       "      <td>第１節第１日</td>\n",
       "      <td>03/10(土)</td>\n",
       "      <td>14:06</td>\n",
       "      <td>サンフレッチェ広島</td>\n",
       "      <td>浦和レッズ</td>\n",
       "      <td>エディオンスタジアム広島</td>\n",
       "      <td>...</td>\n",
       "      <td>槙野　智章</td>\n",
       "      <td>平川　忠亮</td>\n",
       "      <td>鈴木　啓太</td>\n",
       "      <td>山田　直輝</td>\n",
       "      <td>梅崎　司</td>\n",
       "      <td>柏木　陽介</td>\n",
       "      <td>原口　元気</td>\n",
       "      <td>田中　達也</td>\n",
       "      <td>広島県広島市安佐南区大塚西5-1-1</td>\n",
       "      <td>50000</td>\n",
       "    </tr>\n",
       "    <tr>\n",
       "      <th>4</th>\n",
       "      <td>13998</td>\n",
       "      <td>25353</td>\n",
       "      <td>2012</td>\n",
       "      <td>Ｊ１</td>\n",
       "      <td>第１節第１日</td>\n",
       "      <td>03/10(土)</td>\n",
       "      <td>14:04</td>\n",
       "      <td>コンサドーレ札幌</td>\n",
       "      <td>ジュビロ磐田</td>\n",
       "      <td>札幌ドーム</td>\n",
       "      <td>...</td>\n",
       "      <td>藤田　義明</td>\n",
       "      <td>山本　脩斗</td>\n",
       "      <td>小林　裕紀</td>\n",
       "      <td>山本　康裕</td>\n",
       "      <td>山田　大記</td>\n",
       "      <td>松浦　拓弥</td>\n",
       "      <td>菅沼　実</td>\n",
       "      <td>前田　遼一</td>\n",
       "      <td>北海道札幌市豊平区羊ヶ丘1</td>\n",
       "      <td>39232</td>\n",
       "    </tr>\n",
       "  </tbody>\n",
       "</table>\n",
       "<p>5 rows × 43 columns</p>\n",
       "</div>"
      ],
      "text/plain": [
       "      id      y  year stage   match   gameday   time       home      away  \\\n",
       "0  13994  18250  2012    Ｊ１  第１節第１日  03/10(土)  14:04     ベガルタ仙台  鹿島アントラーズ   \n",
       "1  13995  24316  2012    Ｊ１  第１節第１日  03/10(土)  14:04   名古屋グランパス   清水エスパルス   \n",
       "2  13996  17066  2012    Ｊ１  第１節第１日  03/10(土)  14:04      ガンバ大阪   ヴィッセル神戸   \n",
       "3  13997  29603  2012    Ｊ１  第１節第１日  03/10(土)  14:06  サンフレッチェ広島     浦和レッズ   \n",
       "4  13998  25353  2012    Ｊ１  第１節第１日  03/10(土)  14:04   コンサドーレ札幌    ジュビロ磐田   \n",
       "\n",
       "        stadium  ...          away_04  away_05  away_06 away_07  away_08  \\\n",
       "0  ユアテックスタジアム仙台  ...            中田　浩二    アレックス     青木　剛   増田　誓志   小笠原　満男   \n",
       "1       豊田スタジアム  ...    カルフィン　ヨン　ア　ピン     李　記帝    村松　大輔   河井　陽介    枝村　匠馬   \n",
       "2       万博記念競技場  ...           伊野波　雅彦    相馬　崇人    三原　雅俊   田中　英雄    野沢　拓也   \n",
       "3  エディオンスタジアム広島  ...            槙野　智章    平川　忠亮    鈴木　啓太   山田　直輝     梅崎　司   \n",
       "4         札幌ドーム  ...            藤田　義明    山本　脩斗    小林　裕紀   山本　康裕    山田　大記   \n",
       "\n",
       "  away_09 away_10 away_11             address   capa  \n",
       "0   本山　雅志   大迫　勇也  ジュニーニョ     宮城県仙台市泉区七北田字柳78  19694  \n",
       "1   高木　俊幸   アレックス   大前　元紀        愛知県豊田市千石町7-2  40000  \n",
       "2   橋本　英郎   森岡　亮太  大久保　嘉人     大阪府吹田市千里万博公園5-2  21000  \n",
       "3   柏木　陽介   原口　元気   田中　達也  広島県広島市安佐南区大塚西5-1-1  50000  \n",
       "4   松浦　拓弥    菅沼　実   前田　遼一       北海道札幌市豊平区羊ヶ丘1  39232  \n",
       "\n",
       "[5 rows x 43 columns]"
      ]
     },
     "execution_count": 2,
     "metadata": {},
     "output_type": "execute_result"
    }
   ],
   "source": [
    "all_df= pd.read_csv('train_new.csv')\n",
    "all_df.head()"
   ]
  },
  {
   "cell_type": "code",
   "execution_count": 3,
   "metadata": {
    "scrolled": true
   },
   "outputs": [
    {
     "data": {
      "text/html": [
       "<div>\n",
       "<style scoped>\n",
       "    .dataframe tbody tr th:only-of-type {\n",
       "        vertical-align: middle;\n",
       "    }\n",
       "\n",
       "    .dataframe tbody tr th {\n",
       "        vertical-align: top;\n",
       "    }\n",
       "\n",
       "    .dataframe thead th {\n",
       "        text-align: right;\n",
       "    }\n",
       "</style>\n",
       "<table border=\"1\" class=\"dataframe\">\n",
       "  <thead>\n",
       "    <tr style=\"text-align: right;\">\n",
       "      <th></th>\n",
       "      <th>id</th>\n",
       "      <th>year</th>\n",
       "      <th>stage</th>\n",
       "      <th>match</th>\n",
       "      <th>gameday</th>\n",
       "      <th>time</th>\n",
       "      <th>home</th>\n",
       "      <th>away</th>\n",
       "      <th>stadium</th>\n",
       "      <th>tv</th>\n",
       "      <th>...</th>\n",
       "      <th>away_04</th>\n",
       "      <th>away_05</th>\n",
       "      <th>away_06</th>\n",
       "      <th>away_07</th>\n",
       "      <th>away_08</th>\n",
       "      <th>away_09</th>\n",
       "      <th>away_10</th>\n",
       "      <th>away_11</th>\n",
       "      <th>address</th>\n",
       "      <th>capa</th>\n",
       "    </tr>\n",
       "  </thead>\n",
       "  <tbody>\n",
       "    <tr>\n",
       "      <th>0</th>\n",
       "      <td>15822</td>\n",
       "      <td>2014</td>\n",
       "      <td>Ｊ１</td>\n",
       "      <td>第１８節第１日</td>\n",
       "      <td>08/02(土)</td>\n",
       "      <td>19:04</td>\n",
       "      <td>ベガルタ仙台</td>\n",
       "      <td>大宮アルディージャ</td>\n",
       "      <td>ユアテックスタジアム仙台</td>\n",
       "      <td>スカパー！／スカパー！プレミアムサービス</td>\n",
       "      <td>...</td>\n",
       "      <td>横山　知伸</td>\n",
       "      <td>高橋　祥平</td>\n",
       "      <td>橋本　晃司</td>\n",
       "      <td>和田　拓也</td>\n",
       "      <td>家長　昭博</td>\n",
       "      <td>富山　貴光</td>\n",
       "      <td>ムルジャ</td>\n",
       "      <td>ズラタン</td>\n",
       "      <td>宮城県仙台市泉区七北田字柳78</td>\n",
       "      <td>19694</td>\n",
       "    </tr>\n",
       "    <tr>\n",
       "      <th>1</th>\n",
       "      <td>15823</td>\n",
       "      <td>2014</td>\n",
       "      <td>Ｊ１</td>\n",
       "      <td>第１８節第１日</td>\n",
       "      <td>08/02(土)</td>\n",
       "      <td>18:34</td>\n",
       "      <td>鹿島アントラーズ</td>\n",
       "      <td>サンフレッチェ広島</td>\n",
       "      <td>県立カシマサッカースタジアム</td>\n",
       "      <td>スカパー！／スカパー！プレミアムサービス</td>\n",
       "      <td>...</td>\n",
       "      <td>水本　裕貴</td>\n",
       "      <td>柏　好文</td>\n",
       "      <td>柴﨑　晃誠</td>\n",
       "      <td>森﨑　和幸</td>\n",
       "      <td>山岸　智</td>\n",
       "      <td>石原　直樹</td>\n",
       "      <td>髙萩　洋次郎</td>\n",
       "      <td>佐藤　寿人</td>\n",
       "      <td>茨城県鹿嶋市神向寺後山26-2</td>\n",
       "      <td>40728</td>\n",
       "    </tr>\n",
       "    <tr>\n",
       "      <th>2</th>\n",
       "      <td>15824</td>\n",
       "      <td>2014</td>\n",
       "      <td>Ｊ１</td>\n",
       "      <td>第１８節第１日</td>\n",
       "      <td>08/02(土)</td>\n",
       "      <td>19:04</td>\n",
       "      <td>浦和レッズ</td>\n",
       "      <td>ヴィッセル神戸</td>\n",
       "      <td>埼玉スタジアム２００２</td>\n",
       "      <td>スカパー！／スカパー！プレミアムサービス／ＮＨＫ　ＢＳ１／テレ玉</td>\n",
       "      <td>...</td>\n",
       "      <td>大屋　翼</td>\n",
       "      <td>橋本　英郎</td>\n",
       "      <td>杉浦　恭平</td>\n",
       "      <td>奥井　諒</td>\n",
       "      <td>高橋　峻希</td>\n",
       "      <td>小川　慶治朗</td>\n",
       "      <td>森岡　亮太</td>\n",
       "      <td>マルキーニョス</td>\n",
       "      <td>埼玉県さいたま市緑区中野田500</td>\n",
       "      <td>63700</td>\n",
       "    </tr>\n",
       "    <tr>\n",
       "      <th>3</th>\n",
       "      <td>15825</td>\n",
       "      <td>2014</td>\n",
       "      <td>Ｊ１</td>\n",
       "      <td>第１８節第１日</td>\n",
       "      <td>08/02(土)</td>\n",
       "      <td>19:03</td>\n",
       "      <td>柏レイソル</td>\n",
       "      <td>川崎フロンターレ</td>\n",
       "      <td>日立柏サッカー場</td>\n",
       "      <td>スカパー！／スカパー！プレミアムサービス</td>\n",
       "      <td>...</td>\n",
       "      <td>谷口　彰悟</td>\n",
       "      <td>登里　享平</td>\n",
       "      <td>大島　僚太</td>\n",
       "      <td>中村　憲剛</td>\n",
       "      <td>森谷　賢太郎</td>\n",
       "      <td>金久保　順</td>\n",
       "      <td>小林　悠</td>\n",
       "      <td>大久保　嘉人</td>\n",
       "      <td>千葉県柏市日立台1-2-50</td>\n",
       "      <td>15349</td>\n",
       "    </tr>\n",
       "    <tr>\n",
       "      <th>4</th>\n",
       "      <td>15827</td>\n",
       "      <td>2014</td>\n",
       "      <td>Ｊ１</td>\n",
       "      <td>第１８節第１日</td>\n",
       "      <td>08/02(土)</td>\n",
       "      <td>19:03</td>\n",
       "      <td>アルビレックス新潟</td>\n",
       "      <td>セレッソ大阪</td>\n",
       "      <td>デンカビッグスワンスタジアム</td>\n",
       "      <td>スカパー！／スカパー！プレミアムサービス</td>\n",
       "      <td>...</td>\n",
       "      <td>安藤　淳</td>\n",
       "      <td>山下　達也</td>\n",
       "      <td>扇原　貴宏</td>\n",
       "      <td>山口　蛍</td>\n",
       "      <td>キム　ソンジュン</td>\n",
       "      <td>フォルラン</td>\n",
       "      <td>南野　拓実</td>\n",
       "      <td>杉本　健勇</td>\n",
       "      <td>新潟県新潟市中央区清五郎67-12</td>\n",
       "      <td>42300</td>\n",
       "    </tr>\n",
       "  </tbody>\n",
       "</table>\n",
       "<p>5 rows × 42 columns</p>\n",
       "</div>"
      ],
      "text/plain": [
       "      id  year stage    match   gameday   time       home       away  \\\n",
       "0  15822  2014    Ｊ１  第１８節第１日  08/02(土)  19:04     ベガルタ仙台  大宮アルディージャ   \n",
       "1  15823  2014    Ｊ１  第１８節第１日  08/02(土)  18:34   鹿島アントラーズ  サンフレッチェ広島   \n",
       "2  15824  2014    Ｊ１  第１８節第１日  08/02(土)  19:04      浦和レッズ    ヴィッセル神戸   \n",
       "3  15825  2014    Ｊ１  第１８節第１日  08/02(土)  19:03      柏レイソル   川崎フロンターレ   \n",
       "4  15827  2014    Ｊ１  第１８節第１日  08/02(土)  19:03  アルビレックス新潟     セレッソ大阪   \n",
       "\n",
       "          stadium                                tv  ...    away_04  away_05  \\\n",
       "0    ユアテックスタジアム仙台              スカパー！／スカパー！プレミアムサービス  ...      横山　知伸    高橋　祥平   \n",
       "1  県立カシマサッカースタジアム              スカパー！／スカパー！プレミアムサービス  ...      水本　裕貴     柏　好文   \n",
       "2     埼玉スタジアム２００２  スカパー！／スカパー！プレミアムサービス／ＮＨＫ　ＢＳ１／テレ玉  ...       大屋　翼    橋本　英郎   \n",
       "3        日立柏サッカー場              スカパー！／スカパー！プレミアムサービス  ...      谷口　彰悟    登里　享平   \n",
       "4  デンカビッグスワンスタジアム              スカパー！／スカパー！プレミアムサービス  ...       安藤　淳    山下　達也   \n",
       "\n",
       "  away_06  away_07   away_08 away_09 away_10  away_11            address  \\\n",
       "0   橋本　晃司    和田　拓也     家長　昭博   富山　貴光    ムルジャ     ズラタン    宮城県仙台市泉区七北田字柳78   \n",
       "1   柴﨑　晃誠    森﨑　和幸      山岸　智   石原　直樹  髙萩　洋次郎    佐藤　寿人    茨城県鹿嶋市神向寺後山26-2   \n",
       "2   杉浦　恭平     奥井　諒     高橋　峻希  小川　慶治朗   森岡　亮太  マルキーニョス   埼玉県さいたま市緑区中野田500   \n",
       "3   大島　僚太    中村　憲剛    森谷　賢太郎   金久保　順    小林　悠   大久保　嘉人     千葉県柏市日立台1-2-50   \n",
       "4   扇原　貴宏     山口　蛍  キム　ソンジュン   フォルラン   南野　拓実    杉本　健勇  新潟県新潟市中央区清五郎67-12   \n",
       "\n",
       "    capa  \n",
       "0  19694  \n",
       "1  40728  \n",
       "2  63700  \n",
       "3  15349  \n",
       "4  42300  \n",
       "\n",
       "[5 rows x 42 columns]"
      ]
     },
     "execution_count": 3,
     "metadata": {},
     "output_type": "execute_result"
    }
   ],
   "source": [
    "test_df= pd.read_csv('test_new.csv')\n",
    "test_df.head()"
   ]
  },
  {
   "cell_type": "code",
   "execution_count": 4,
   "metadata": {},
   "outputs": [
    {
     "data": {
      "text/plain": [
       "Index(['id', 'y', 'year', 'stage', 'match', 'gameday', 'time', 'home', 'away',\n",
       "       'stadium', 'tv', 'home_score', 'away_score', 'weather', 'temperature',\n",
       "       'humidity', 'referee', 'home_team', 'home_01', 'home_02', 'home_03',\n",
       "       'home_04', 'home_05', 'home_06', 'home_07', 'home_08', 'home_09',\n",
       "       'home_10', 'home_11', 'away_team', 'away_01', 'away_02', 'away_03',\n",
       "       'away_04', 'away_05', 'away_06', 'away_07', 'away_08', 'away_09',\n",
       "       'away_10', 'away_11', 'address', 'capa'],\n",
       "      dtype='object')"
      ]
     },
     "execution_count": 4,
     "metadata": {},
     "output_type": "execute_result"
    }
   ],
   "source": [
    "all_df.columns"
   ]
  },
  {
   "cell_type": "code",
   "execution_count": 5,
   "metadata": {},
   "outputs": [
    {
     "name": "stdout",
     "output_type": "stream",
     "text": [
      "(1953, 43)\n",
      "(313, 42)\n"
     ]
    }
   ],
   "source": [
    "print(all_df.shape)\n",
    "print(test_df.shape)"
   ]
  },
  {
   "cell_type": "code",
   "execution_count": 6,
   "metadata": {
    "scrolled": true
   },
   "outputs": [
    {
     "data": {
      "text/plain": [
       "id             0\n",
       "y              0\n",
       "year           0\n",
       "stage          0\n",
       "match          0\n",
       "gameday        0\n",
       "time           0\n",
       "home           0\n",
       "away           0\n",
       "stadium        0\n",
       "tv             0\n",
       "home_score     0\n",
       "away_score     0\n",
       "weather        0\n",
       "temperature    0\n",
       "humidity       0\n",
       "referee        0\n",
       "home_team      0\n",
       "home_01        0\n",
       "home_02        0\n",
       "home_03        0\n",
       "home_04        0\n",
       "home_05        0\n",
       "home_06        0\n",
       "home_07        0\n",
       "home_08        0\n",
       "home_09        0\n",
       "home_10        0\n",
       "home_11        0\n",
       "away_team      0\n",
       "away_01        0\n",
       "away_02        0\n",
       "away_03        0\n",
       "away_04        0\n",
       "away_05        0\n",
       "away_06        0\n",
       "away_07        0\n",
       "away_08        0\n",
       "away_09        0\n",
       "away_10        0\n",
       "away_11        0\n",
       "address        0\n",
       "capa           0\n",
       "dtype: int64"
      ]
     },
     "execution_count": 6,
     "metadata": {},
     "output_type": "execute_result"
    }
   ],
   "source": [
    "#欠損値の確認(train)\n",
    "all_df.isnull().sum()"
   ]
  },
  {
   "cell_type": "code",
   "execution_count": 7,
   "metadata": {
    "scrolled": true
   },
   "outputs": [
    {
     "data": {
      "text/plain": [
       "id             0\n",
       "year           0\n",
       "stage          0\n",
       "match          0\n",
       "gameday        0\n",
       "time           0\n",
       "home           0\n",
       "away           0\n",
       "stadium        0\n",
       "tv             0\n",
       "home_score     0\n",
       "away_score     0\n",
       "weather        0\n",
       "temperature    0\n",
       "humidity       0\n",
       "referee        0\n",
       "home_team      0\n",
       "home_01        0\n",
       "home_02        0\n",
       "home_03        0\n",
       "home_04        0\n",
       "home_05        0\n",
       "home_06        0\n",
       "home_07        0\n",
       "home_08        0\n",
       "home_09        0\n",
       "home_10        0\n",
       "home_11        0\n",
       "away_team      0\n",
       "away_01        0\n",
       "away_02        0\n",
       "away_03        0\n",
       "away_04        0\n",
       "away_05        0\n",
       "away_06        0\n",
       "away_07        0\n",
       "away_08        0\n",
       "away_09        0\n",
       "away_10        0\n",
       "away_11        0\n",
       "address        0\n",
       "capa           0\n",
       "dtype: int64"
      ]
     },
     "execution_count": 7,
     "metadata": {},
     "output_type": "execute_result"
    }
   ],
   "source": [
    "#欠損値の確認(test)\n",
    "test_df.isnull().sum()"
   ]
  },
  {
   "cell_type": "code",
   "execution_count": 8,
   "metadata": {},
   "outputs": [
    {
     "data": {
      "text/html": [
       "<div>\n",
       "<style scoped>\n",
       "    .dataframe tbody tr th:only-of-type {\n",
       "        vertical-align: middle;\n",
       "    }\n",
       "\n",
       "    .dataframe tbody tr th {\n",
       "        vertical-align: top;\n",
       "    }\n",
       "\n",
       "    .dataframe thead th {\n",
       "        text-align: right;\n",
       "    }\n",
       "</style>\n",
       "<table border=\"1\" class=\"dataframe\">\n",
       "  <thead>\n",
       "    <tr style=\"text-align: right;\">\n",
       "      <th></th>\n",
       "      <th>id</th>\n",
       "      <th>y</th>\n",
       "      <th>year</th>\n",
       "      <th>stage</th>\n",
       "      <th>match</th>\n",
       "      <th>gameday</th>\n",
       "      <th>time</th>\n",
       "      <th>home</th>\n",
       "      <th>away</th>\n",
       "      <th>stadium</th>\n",
       "      <th>tv</th>\n",
       "      <th>weather</th>\n",
       "      <th>temperature</th>\n",
       "      <th>humidity</th>\n",
       "      <th>capa</th>\n",
       "    </tr>\n",
       "  </thead>\n",
       "  <tbody>\n",
       "    <tr>\n",
       "      <th>0</th>\n",
       "      <td>13994</td>\n",
       "      <td>18250</td>\n",
       "      <td>2012</td>\n",
       "      <td>Ｊ１</td>\n",
       "      <td>第１節第１日</td>\n",
       "      <td>03/10(土)</td>\n",
       "      <td>14:04</td>\n",
       "      <td>ベガルタ仙台</td>\n",
       "      <td>鹿島アントラーズ</td>\n",
       "      <td>ユアテックスタジアム仙台</td>\n",
       "      <td>スカパー／ｅ２／スカパー光／ＮＨＫ総合</td>\n",
       "      <td>雨</td>\n",
       "      <td>3.8</td>\n",
       "      <td>66%</td>\n",
       "      <td>19694</td>\n",
       "    </tr>\n",
       "    <tr>\n",
       "      <th>1</th>\n",
       "      <td>13995</td>\n",
       "      <td>24316</td>\n",
       "      <td>2012</td>\n",
       "      <td>Ｊ１</td>\n",
       "      <td>第１節第１日</td>\n",
       "      <td>03/10(土)</td>\n",
       "      <td>14:04</td>\n",
       "      <td>名古屋グランパス</td>\n",
       "      <td>清水エスパルス</td>\n",
       "      <td>豊田スタジアム</td>\n",
       "      <td>スカパー／ｅ２／スカパー光（Ｊ　ＳＰＯＲＴＳ　４）／ＮＨＫ名古屋</td>\n",
       "      <td>屋内</td>\n",
       "      <td>12.4</td>\n",
       "      <td>43%</td>\n",
       "      <td>40000</td>\n",
       "    </tr>\n",
       "    <tr>\n",
       "      <th>2</th>\n",
       "      <td>13996</td>\n",
       "      <td>17066</td>\n",
       "      <td>2012</td>\n",
       "      <td>Ｊ１</td>\n",
       "      <td>第１節第１日</td>\n",
       "      <td>03/10(土)</td>\n",
       "      <td>14:04</td>\n",
       "      <td>ガンバ大阪</td>\n",
       "      <td>ヴィッセル神戸</td>\n",
       "      <td>万博記念競技場</td>\n",
       "      <td>スカパー／ｅ２／スカパー光（Ｊ　ＳＰＯＲＴＳ　１）／ＮＨＫ大阪</td>\n",
       "      <td>晴一時雨</td>\n",
       "      <td>11.3</td>\n",
       "      <td>41%</td>\n",
       "      <td>21000</td>\n",
       "    </tr>\n",
       "    <tr>\n",
       "      <th>3</th>\n",
       "      <td>13997</td>\n",
       "      <td>29603</td>\n",
       "      <td>2012</td>\n",
       "      <td>Ｊ１</td>\n",
       "      <td>第１節第１日</td>\n",
       "      <td>03/10(土)</td>\n",
       "      <td>14:06</td>\n",
       "      <td>サンフレッチェ広島</td>\n",
       "      <td>浦和レッズ</td>\n",
       "      <td>エディオンスタジアム広島</td>\n",
       "      <td>スカパー／ｅ２／スカパー光／ＮＨＫ広島</td>\n",
       "      <td>曇一時雨のち晴</td>\n",
       "      <td>11.4</td>\n",
       "      <td>52%</td>\n",
       "      <td>50000</td>\n",
       "    </tr>\n",
       "    <tr>\n",
       "      <th>4</th>\n",
       "      <td>13998</td>\n",
       "      <td>25353</td>\n",
       "      <td>2012</td>\n",
       "      <td>Ｊ１</td>\n",
       "      <td>第１節第１日</td>\n",
       "      <td>03/10(土)</td>\n",
       "      <td>14:04</td>\n",
       "      <td>コンサドーレ札幌</td>\n",
       "      <td>ジュビロ磐田</td>\n",
       "      <td>札幌ドーム</td>\n",
       "      <td>スカパー／ｅ２／スカパー光（スカイ・Ａ　ｓｐｏｒｔｓ＋）／ＮＨＫ札幌</td>\n",
       "      <td>屋内</td>\n",
       "      <td>22.5</td>\n",
       "      <td>32%</td>\n",
       "      <td>39232</td>\n",
       "    </tr>\n",
       "  </tbody>\n",
       "</table>\n",
       "</div>"
      ],
      "text/plain": [
       "      id      y  year stage   match   gameday   time       home      away  \\\n",
       "0  13994  18250  2012    Ｊ１  第１節第１日  03/10(土)  14:04     ベガルタ仙台  鹿島アントラーズ   \n",
       "1  13995  24316  2012    Ｊ１  第１節第１日  03/10(土)  14:04   名古屋グランパス   清水エスパルス   \n",
       "2  13996  17066  2012    Ｊ１  第１節第１日  03/10(土)  14:04      ガンバ大阪   ヴィッセル神戸   \n",
       "3  13997  29603  2012    Ｊ１  第１節第１日  03/10(土)  14:06  サンフレッチェ広島     浦和レッズ   \n",
       "4  13998  25353  2012    Ｊ１  第１節第１日  03/10(土)  14:04   コンサドーレ札幌    ジュビロ磐田   \n",
       "\n",
       "        stadium                                  tv  weather  temperature  \\\n",
       "0  ユアテックスタジアム仙台                 スカパー／ｅ２／スカパー光／ＮＨＫ総合        雨          3.8   \n",
       "1       豊田スタジアム    スカパー／ｅ２／スカパー光（Ｊ　ＳＰＯＲＴＳ　４）／ＮＨＫ名古屋       屋内         12.4   \n",
       "2       万博記念競技場     スカパー／ｅ２／スカパー光（Ｊ　ＳＰＯＲＴＳ　１）／ＮＨＫ大阪     晴一時雨         11.3   \n",
       "3  エディオンスタジアム広島                 スカパー／ｅ２／スカパー光／ＮＨＫ広島  曇一時雨のち晴         11.4   \n",
       "4         札幌ドーム  スカパー／ｅ２／スカパー光（スカイ・Ａ　ｓｐｏｒｔｓ＋）／ＮＨＫ札幌       屋内         22.5   \n",
       "\n",
       "  humidity   capa  \n",
       "0      66%  19694  \n",
       "1      43%  40000  \n",
       "2      41%  21000  \n",
       "3      52%  50000  \n",
       "4      32%  39232  "
      ]
     },
     "execution_count": 8,
     "metadata": {},
     "output_type": "execute_result"
    }
   ],
   "source": [
    "#変数を減らす\n",
    "all_df=all_df.loc[:,['id', 'y', 'year', 'stage', 'match', 'gameday', 'time', 'home', 'away','stadium', 'tv', 'weather', 'temperature',\n",
    "                     'humidity', 'capa']]\n",
    "all_df.head()"
   ]
  },
  {
   "cell_type": "code",
   "execution_count": 9,
   "metadata": {
    "scrolled": true
   },
   "outputs": [
    {
     "name": "stdout",
     "output_type": "stream",
     "text": [
      "1059\n",
      "1567\n"
     ]
    },
    {
     "data": {
      "text/html": [
       "<div>\n",
       "<style scoped>\n",
       "    .dataframe tbody tr th:only-of-type {\n",
       "        vertical-align: middle;\n",
       "    }\n",
       "\n",
       "    .dataframe tbody tr th {\n",
       "        vertical-align: top;\n",
       "    }\n",
       "\n",
       "    .dataframe thead th {\n",
       "        text-align: right;\n",
       "    }\n",
       "</style>\n",
       "<table border=\"1\" class=\"dataframe\">\n",
       "  <thead>\n",
       "    <tr style=\"text-align: right;\">\n",
       "      <th></th>\n",
       "      <th>id</th>\n",
       "      <th>y</th>\n",
       "      <th>year</th>\n",
       "      <th>stage</th>\n",
       "      <th>match</th>\n",
       "      <th>gameday</th>\n",
       "      <th>time</th>\n",
       "      <th>home</th>\n",
       "      <th>away</th>\n",
       "      <th>stadium</th>\n",
       "      <th>tv</th>\n",
       "      <th>weather</th>\n",
       "      <th>temperature</th>\n",
       "      <th>humidity</th>\n",
       "      <th>capa</th>\n",
       "    </tr>\n",
       "  </thead>\n",
       "  <tbody>\n",
       "    <tr>\n",
       "      <th>0</th>\n",
       "      <td>13994</td>\n",
       "      <td>18250</td>\n",
       "      <td>2012</td>\n",
       "      <td>0</td>\n",
       "      <td>１</td>\n",
       "      <td>1</td>\n",
       "      <td>3</td>\n",
       "      <td>15353.904762</td>\n",
       "      <td>20289.139535</td>\n",
       "      <td>15309.292683</td>\n",
       "      <td>0</td>\n",
       "      <td>0</td>\n",
       "      <td>3.8</td>\n",
       "      <td>66</td>\n",
       "      <td>19694</td>\n",
       "    </tr>\n",
       "    <tr>\n",
       "      <th>1</th>\n",
       "      <td>13995</td>\n",
       "      <td>24316</td>\n",
       "      <td>2012</td>\n",
       "      <td>0</td>\n",
       "      <td>１</td>\n",
       "      <td>1</td>\n",
       "      <td>3</td>\n",
       "      <td>17226.744186</td>\n",
       "      <td>16572.761905</td>\n",
       "      <td>20624.360000</td>\n",
       "      <td>1</td>\n",
       "      <td>2</td>\n",
       "      <td>12.4</td>\n",
       "      <td>43</td>\n",
       "      <td>40000</td>\n",
       "    </tr>\n",
       "    <tr>\n",
       "      <th>2</th>\n",
       "      <td>13996</td>\n",
       "      <td>17066</td>\n",
       "      <td>2012</td>\n",
       "      <td>0</td>\n",
       "      <td>１</td>\n",
       "      <td>1</td>\n",
       "      <td>3</td>\n",
       "      <td>13449.891304</td>\n",
       "      <td>11431.478261</td>\n",
       "      <td>13449.891304</td>\n",
       "      <td>1</td>\n",
       "      <td>0</td>\n",
       "      <td>11.3</td>\n",
       "      <td>41</td>\n",
       "      <td>21000</td>\n",
       "    </tr>\n",
       "    <tr>\n",
       "      <th>3</th>\n",
       "      <td>13997</td>\n",
       "      <td>29603</td>\n",
       "      <td>2012</td>\n",
       "      <td>0</td>\n",
       "      <td>１</td>\n",
       "      <td>1</td>\n",
       "      <td>3</td>\n",
       "      <td>16494.209302</td>\n",
       "      <td>23127.880952</td>\n",
       "      <td>16494.209302</td>\n",
       "      <td>1</td>\n",
       "      <td>0</td>\n",
       "      <td>11.4</td>\n",
       "      <td>52</td>\n",
       "      <td>50000</td>\n",
       "    </tr>\n",
       "    <tr>\n",
       "      <th>4</th>\n",
       "      <td>13998</td>\n",
       "      <td>25353</td>\n",
       "      <td>2012</td>\n",
       "      <td>0</td>\n",
       "      <td>１</td>\n",
       "      <td>1</td>\n",
       "      <td>3</td>\n",
       "      <td>10837.254902</td>\n",
       "      <td>14579.577778</td>\n",
       "      <td>13362.200000</td>\n",
       "      <td>1</td>\n",
       "      <td>2</td>\n",
       "      <td>22.5</td>\n",
       "      <td>32</td>\n",
       "      <td>39232</td>\n",
       "    </tr>\n",
       "  </tbody>\n",
       "</table>\n",
       "</div>"
      ],
      "text/plain": [
       "      id      y  year  stage match  gameday  time          home          away  \\\n",
       "0  13994  18250  2012      0     １        1     3  15353.904762  20289.139535   \n",
       "1  13995  24316  2012      0     １        1     3  17226.744186  16572.761905   \n",
       "2  13996  17066  2012      0     １        1     3  13449.891304  11431.478261   \n",
       "3  13997  29603  2012      0     １        1     3  16494.209302  23127.880952   \n",
       "4  13998  25353  2012      0     １        1     3  10837.254902  14579.577778   \n",
       "\n",
       "        stadium  tv  weather  temperature humidity   capa  \n",
       "0  15309.292683   0        0          3.8       66  19694  \n",
       "1  20624.360000   1        2         12.4       43  40000  \n",
       "2  13449.891304   1        0         11.3       41  21000  \n",
       "3  16494.209302   1        0         11.4       52  50000  \n",
       "4  13362.200000   1        2         22.5       32  39232  "
      ]
     },
     "execution_count": 9,
     "metadata": {},
     "output_type": "execute_result"
    }
   ],
   "source": [
    "##前処理\n",
    "#外れ値の処理\n",
    "for i in range(len(all_df)):\n",
    "    if all_df.loc[i,'y']==0 or all_df.loc[i,'y']>=60000:\n",
    "        all_df=all_df.drop(i,axis=0)\n",
    "        print(i)\n",
    "all_df.index = np.arange(len(all_df))\n",
    "all_df.head()\n",
    "#matchの〇節を抽出\n",
    "all_df['match'] = all_df['match'].apply(lambda x: x[1:].rsplit('節', 1)[0])\n",
    "#TVのマッピング\n",
    "for i in range(len(all_df)):\n",
    "    if 'ＮＨＫ総合' in all_df.loc[i,'tv']:\n",
    "        all_df.loc[i,'tv']=0\n",
    "    elif 'ＮＨＫ' in all_df.loc[i,'tv']:\n",
    "        all_df.loc[i,'tv']=1\n",
    "    elif  'ＢＳ' in all_df.loc[i,'tv']:\n",
    "        all_df.loc[i,'tv']=1\n",
    "    else:\n",
    "        all_df.loc[i,'tv']=2\n",
    "#gameday→曜日\n",
    "all_df['gameday'] = all_df['gameday'].apply(lambda x: x[:-1].rsplit('(', 1)[-1])\n",
    "#曜日マッピング\n",
    "for i in range(len(all_df)):\n",
    "    if all_df.loc[i,'gameday'] =='火'or all_df.loc[i,'gameday'] =='水'or all_df.loc[i,'gameday'] =='木'or all_df.loc[i,'gameday'] =='金':\n",
    "        all_df.loc[i,'gameday']=0\n",
    "    else:\n",
    "        all_df.loc[i,'gameday']=1\n",
    "#time→〇時\n",
    "all_df['time'] =all_df['time'].apply(lambda x: x.split(':', 1)[0])\n",
    "#〇時→デイorナイト\n",
    "for i in range(len(all_df)):\n",
    "    if all_df.loc[i,'time'] =='18':\n",
    "        all_df.loc[i,'time']=0\n",
    "    elif all_df.loc[i,'time']=='19':\n",
    "        all_df.loc[i,'time']=0\n",
    "    else:\n",
    "        all_df.loc[i,'time']=1\n",
    "#曜日＆デイorナイト,weatherマッピング\n",
    "for i in range(len(all_df)):\n",
    "    if all_df.loc[i,'gameday'] ==0 and all_df.loc[i,'time']==1:\n",
    "        all_df.loc[i,'time']=0\n",
    "    elif all_df.loc[i,'gameday'] ==0 and all_df.loc[i,'time']==0:\n",
    "        all_df.loc[i,'time']=1\n",
    "    elif all_df.loc[i,'gameday'] ==1 and all_df.loc[i,'time']==0:\n",
    "        all_df.loc[i,'time']=2\n",
    "    else:\n",
    "        all_df.loc[i,'time']=3\n",
    "    if '雨' in all_df.loc[i,'weather']:\n",
    "        all_df.loc[i,'weather']=0\n",
    "    elif '雪' in all_df.loc[i,'weather']:\n",
    "        all_df.loc[i,'weather']=0\n",
    "    elif  '晴' in all_df.loc[i,'weather']:\n",
    "        all_df.loc[i,'weather']=2\n",
    "    elif  '屋内' in all_df.loc[i,'weather']:\n",
    "        all_df.loc[i,'weather']=2\n",
    "    else:\n",
    "        all_df.loc[i,'weather']=1\n",
    "#humidityの数字を取り出す\n",
    "all_df['humidity'] = all_df['humidity'].apply(lambda x: x[:-1].rsplit('%', 1)[-1])\n",
    "#home,away,stadium,stageのマッピング \n",
    "home_df=all_df[['home']]\n",
    "away_df=all_df[['away']]\n",
    "stadium_df=all_df[['stadium']]\n",
    "for column in ['home','stage','away','stadium']:\n",
    "    le = preprocessing.LabelEncoder()\n",
    "    le.fit(all_df[column])\n",
    "    all_df[column] = le.transform(all_df[column])\n",
    "stadium_number=[]\n",
    "for i in range(59):\n",
    "    count=0\n",
    "    sum=0\n",
    "    for j in range(len(all_df)):\n",
    "        if all_df.loc[j,'stadium'] ==i:\n",
    "            count+=1\n",
    "            sum+=all_df.loc[j,'y']\n",
    "    stadium_number.append(sum/count)\n",
    "home_number=[]\n",
    "for i in range(43):\n",
    "    count=0\n",
    "    sum=0\n",
    "    for j in range(len(all_df)):\n",
    "        if all_df.loc[j,'home'] ==i:\n",
    "            count+=1\n",
    "            sum+=all_df.loc[j,'y']\n",
    "    home_number.append(sum/count)\n",
    "away_number=[]\n",
    "for i in range(43):\n",
    "    count=0\n",
    "    sum=0\n",
    "    for j in range(len(all_df)):\n",
    "        if all_df.loc[j,'away'] ==i:\n",
    "            count+=1\n",
    "            sum+=all_df.loc[j,'y']\n",
    "    away_number.append(sum/count)\n",
    "for j in range(len(all_df)):\n",
    "    for i in range(59):\n",
    "        if all_df.loc[j,'stadium'] ==i:\n",
    "            all_df.loc[j,'stadium']=stadium_number[i]\n",
    "            break\n",
    "    for i in range(43):\n",
    "        if all_df.loc[j,'home'] ==i:\n",
    "            all_df.loc[j,'home']=home_number[i]\n",
    "            break\n",
    "    for i in range(43):\n",
    "        if all_df.loc[j,'away'] ==i:\n",
    "            all_df.loc[j,'away']=away_number[i]\n",
    "            break\n",
    "\n",
    "all_df.head()"
   ]
  },
  {
   "cell_type": "code",
   "execution_count": 10,
   "metadata": {},
   "outputs": [
    {
     "data": {
      "image/png": "[encoded data removed]",
      "text/plain": [
       "<Figure size 864x648 with 2 Axes>"
      ]
     },
     "metadata": {},
     "output_type": "display_data"
    }
   ],
   "source": [
    "# ヒートマップの表示\n",
    "plt.figure(figsize=(12, 9))\n",
    "# annot : 数値を表示するかどうか(annotation)\n",
    "# square: 四角を正方形に合わせるかどうか\n",
    "# fmt   : 表示する数値の形式(formatting)\n",
    "sns.heatmap(all_df.corr(), annot=True, square=True, fmt='.2f')\n",
    "plt.show()"
   ]
  },
  {
   "cell_type": "code",
   "execution_count": 11,
   "metadata": {},
   "outputs": [
    {
     "data": {
      "image/png": "[encoded data removed]",
      "text/plain": [
       "<Figure size 432x288 with 1 Axes>"
      ]
     },
     "metadata": {},
     "output_type": "display_data"
    }
   ],
   "source": [
    "# year vs y\n",
    "plt.scatter(all_df['year'], all_df['y'])\n",
    "plt.title('year vs y')\n",
    "plt.xlabel('year')\n",
    "plt.ylabel('y')\n",
    "plt.show()"
   ]
  },
  {
   "cell_type": "code",
   "execution_count": 12,
   "metadata": {
    "scrolled": false
   },
   "outputs": [
    {
     "data": {
      "image/png": "[encoded data removed]",
      "text/plain": [
       "<Figure size 432x288 with 1 Axes>"
      ]
     },
     "metadata": {},
     "output_type": "display_data"
    }
   ],
   "source": [
    "# stage vs y\n",
    "plt.scatter(all_df['stage'], all_df['y'])\n",
    "plt.title('stage vs y')\n",
    "plt.xlabel('stage')\n",
    "plt.ylabel('y')\n",
    "plt.show()"
   ]
  },
  {
   "cell_type": "code",
   "execution_count": 13,
   "metadata": {
    "scrolled": false
   },
   "outputs": [
    {
     "data": {
      "image/png": "[encoded data removed]",
      "text/plain": [
       "<Figure size 432x288 with 1 Axes>"
      ]
     },
     "metadata": {},
     "output_type": "display_data"
    }
   ],
   "source": [
    "# match vs y\n",
    "plt.scatter(all_df['match'], all_df['y'])\n",
    "plt.title('match vs y')\n",
    "plt.xlabel('match')\n",
    "plt.ylabel('y')\n",
    "plt.show()"
   ]
  },
  {
   "cell_type": "code",
   "execution_count": 14,
   "metadata": {
    "scrolled": true
   },
   "outputs": [
    {
     "data": {
      "image/png": "[encoded data removed]",
      "text/plain": [
       "<Figure size 432x288 with 1 Axes>"
      ]
     },
     "metadata": {},
     "output_type": "display_data"
    }
   ],
   "source": [
    "# gameday vs y\n",
    "plt.scatter(all_df['gameday'], all_df['y'])\n",
    "plt.title('gameday vs y')\n",
    "plt.xlabel('gameday')\n",
    "plt.ylabel('y')\n",
    "plt.show()"
   ]
  },
  {
   "cell_type": "code",
   "execution_count": 15,
   "metadata": {
    "scrolled": true
   },
   "outputs": [
    {
     "data": {
      "image/png": "[encoded data removed]",
      "text/plain": [
       "<Figure size 432x288 with 1 Axes>"
      ]
     },
     "metadata": {},
     "output_type": "display_data"
    }
   ],
   "source": [
    "# day&time vs y\n",
    "plt.scatter(all_df['time'], all_df['y'])\n",
    "plt.title('time vs y')\n",
    "plt.xlabel('time')\n",
    "plt.ylabel('y')\n",
    "plt.show()"
   ]
  },
  {
   "cell_type": "code",
   "execution_count": 16,
   "metadata": {},
   "outputs": [
    {
     "data": {
      "image/png": "[encoded data removed]",
      "text/plain": [
       "<Figure size 432x288 with 1 Axes>"
      ]
     },
     "metadata": {},
     "output_type": "display_data"
    }
   ],
   "source": [
    "# home vs y\n",
    "plt.scatter(all_df['home'], all_df['y'])\n",
    "plt.title('home vs y')\n",
    "plt.xlabel('home')\n",
    "plt.ylabel('y')\n",
    "plt.show()"
   ]
  },
  {
   "cell_type": "code",
   "execution_count": 17,
   "metadata": {},
   "outputs": [
    {
     "data": {
      "image/png": "[encoded data removed]",
      "text/plain": [
       "<Figure size 432x288 with 1 Axes>"
      ]
     },
     "metadata": {},
     "output_type": "display_data"
    }
   ],
   "source": [
    "# away vs y\n",
    "plt.scatter(all_df['away'], all_df['y'])\n",
    "plt.title('away vs y')\n",
    "plt.xlabel('away')\n",
    "plt.ylabel('y')\n",
    "plt.show()"
   ]
  },
  {
   "cell_type": "code",
   "execution_count": 18,
   "metadata": {
    "scrolled": true
   },
   "outputs": [
    {
     "data": {
      "image/png": "[encoded data removed]",
      "text/plain": [
       "<Figure size 432x288 with 1 Axes>"
      ]
     },
     "metadata": {},
     "output_type": "display_data"
    }
   ],
   "source": [
    "# stadium vs y\n",
    "plt.scatter(all_df['stadium'], all_df['y'])\n",
    "plt.title('stadium vs y')\n",
    "plt.xlabel('stadium')\n",
    "plt.ylabel('y')\n",
    "plt.show()"
   ]
  },
  {
   "cell_type": "code",
   "execution_count": 19,
   "metadata": {
    "scrolled": false
   },
   "outputs": [
    {
     "data": {
      "image/png": "[encoded data removed]",
      "text/plain": [
       "<Figure size 432x288 with 1 Axes>"
      ]
     },
     "metadata": {},
     "output_type": "display_data"
    }
   ],
   "source": [
    "# tv vs y\n",
    "plt.scatter(all_df['tv'], all_df['y'])\n",
    "plt.title('tv vs y')\n",
    "plt.xlabel('tv')\n",
    "plt.ylabel('y')\n",
    "plt.show()"
   ]
  },
  {
   "cell_type": "code",
   "execution_count": 20,
   "metadata": {
    "scrolled": true
   },
   "outputs": [
    {
     "data": {
      "image/png": "[encoded data removed]",
      "text/plain": [
       "<Figure size 432x288 with 1 Axes>"
      ]
     },
     "metadata": {},
     "output_type": "display_data"
    }
   ],
   "source": [
    "# weather vs y\n",
    "plt.scatter(all_df['weather'], all_df['y'])\n",
    "plt.title('weather vs y')\n",
    "plt.xlabel('weather')\n",
    "plt.ylabel('y')\n",
    "plt.show()"
   ]
  },
  {
   "cell_type": "code",
   "execution_count": 21,
   "metadata": {
    "scrolled": true
   },
   "outputs": [
    {
     "data": {
      "image/png": "[encoded data removed]",
      "text/plain": [
       "<Figure size 432x288 with 1 Axes>"
      ]
     },
     "metadata": {},
     "output_type": "display_data"
    }
   ],
   "source": [
    "# tempreture vs y\n",
    "plt.scatter(all_df['temperature'], all_df['y'])\n",
    "plt.title('temperature vs y')\n",
    "plt.xlabel('temperature')\n",
    "plt.ylabel('y')\n",
    "plt.show()"
   ]
  },
  {
   "cell_type": "code",
   "execution_count": 22,
   "metadata": {
    "scrolled": false
   },
   "outputs": [
    {
     "data": {
      "image/png": "[encoded data removed]",
      "text/plain": [
       "<Figure size 432x288 with 1 Axes>"
      ]
     },
     "metadata": {},
     "output_type": "display_data"
    }
   ],
   "source": [
    "# humidity vs y\n",
    "plt.scatter(all_df['humidity'], all_df['y'])\n",
    "plt.title('humidity vs y')\n",
    "plt.xlabel('humidity')\n",
    "plt.ylabel('y')\n",
    "plt.show()"
   ]
  },
  {
   "cell_type": "code",
   "execution_count": 23,
   "metadata": {
    "scrolled": false
   },
   "outputs": [
    {
     "data": {
      "image/png": "[encoded data removed]",
      "text/plain": [
       "<Figure size 432x288 with 1 Axes>"
      ]
     },
     "metadata": {},
     "output_type": "display_data"
    }
   ],
   "source": [
    "# capa vs y\n",
    "plt.scatter(all_df['capa'], all_df['y'])\n",
    "plt.title('capa vs y')\n",
    "plt.xlabel('capa')\n",
    "plt.ylabel('y')\n",
    "plt.show()"
   ]
  },
  {
   "cell_type": "code",
   "execution_count": 24,
   "metadata": {},
   "outputs": [
    {
     "data": {
      "text/html": [
       "<div>\n",
       "<style scoped>\n",
       "    .dataframe tbody tr th:only-of-type {\n",
       "        vertical-align: middle;\n",
       "    }\n",
       "\n",
       "    .dataframe tbody tr th {\n",
       "        vertical-align: top;\n",
       "    }\n",
       "\n",
       "    .dataframe thead th {\n",
       "        text-align: right;\n",
       "    }\n",
       "</style>\n",
       "<table border=\"1\" class=\"dataframe\">\n",
       "  <thead>\n",
       "    <tr style=\"text-align: right;\">\n",
       "      <th></th>\n",
       "      <th>y</th>\n",
       "      <th>stage</th>\n",
       "      <th>gameday</th>\n",
       "      <th>time</th>\n",
       "      <th>home</th>\n",
       "      <th>away</th>\n",
       "      <th>stadium</th>\n",
       "      <th>capa</th>\n",
       "    </tr>\n",
       "  </thead>\n",
       "  <tbody>\n",
       "    <tr>\n",
       "      <th>0</th>\n",
       "      <td>18250</td>\n",
       "      <td>0</td>\n",
       "      <td>1</td>\n",
       "      <td>3</td>\n",
       "      <td>15353.904762</td>\n",
       "      <td>20289.139535</td>\n",
       "      <td>15309.292683</td>\n",
       "      <td>19694</td>\n",
       "    </tr>\n",
       "    <tr>\n",
       "      <th>1</th>\n",
       "      <td>24316</td>\n",
       "      <td>0</td>\n",
       "      <td>1</td>\n",
       "      <td>3</td>\n",
       "      <td>17226.744186</td>\n",
       "      <td>16572.761905</td>\n",
       "      <td>20624.360000</td>\n",
       "      <td>40000</td>\n",
       "    </tr>\n",
       "    <tr>\n",
       "      <th>2</th>\n",
       "      <td>17066</td>\n",
       "      <td>0</td>\n",
       "      <td>1</td>\n",
       "      <td>3</td>\n",
       "      <td>13449.891304</td>\n",
       "      <td>11431.478261</td>\n",
       "      <td>13449.891304</td>\n",
       "      <td>21000</td>\n",
       "    </tr>\n",
       "    <tr>\n",
       "      <th>3</th>\n",
       "      <td>29603</td>\n",
       "      <td>0</td>\n",
       "      <td>1</td>\n",
       "      <td>3</td>\n",
       "      <td>16494.209302</td>\n",
       "      <td>23127.880952</td>\n",
       "      <td>16494.209302</td>\n",
       "      <td>50000</td>\n",
       "    </tr>\n",
       "    <tr>\n",
       "      <th>4</th>\n",
       "      <td>25353</td>\n",
       "      <td>0</td>\n",
       "      <td>1</td>\n",
       "      <td>3</td>\n",
       "      <td>10837.254902</td>\n",
       "      <td>14579.577778</td>\n",
       "      <td>13362.200000</td>\n",
       "      <td>39232</td>\n",
       "    </tr>\n",
       "  </tbody>\n",
       "</table>\n",
       "</div>"
      ],
      "text/plain": [
       "       y  stage  gameday  time          home          away       stadium  \\\n",
       "0  18250      0        1     3  15353.904762  20289.139535  15309.292683   \n",
       "1  24316      0        1     3  17226.744186  16572.761905  20624.360000   \n",
       "2  17066      0        1     3  13449.891304  11431.478261  13449.891304   \n",
       "3  29603      0        1     3  16494.209302  23127.880952  16494.209302   \n",
       "4  25353      0        1     3  10837.254902  14579.577778  13362.200000   \n",
       "\n",
       "    capa  \n",
       "0  19694  \n",
       "1  40000  \n",
       "2  21000  \n",
       "3  50000  \n",
       "4  39232  "
      ]
     },
     "execution_count": 24,
     "metadata": {},
     "output_type": "execute_result"
    }
   ],
   "source": [
    "#year,match,tv,weather,temperature,humidityを削除\n",
    "all_df_pickup=all_df.loc[:,[ 'y', 'stage', 'gameday', 'time', 'home', 'away','stadium', 'capa']]\n",
    "all_df_pickup.head()"
   ]
  },
  {
   "cell_type": "code",
   "execution_count": 25,
   "metadata": {},
   "outputs": [
    {
     "data": {
      "text/html": [
       "<div>\n",
       "<style scoped>\n",
       "    .dataframe tbody tr th:only-of-type {\n",
       "        vertical-align: middle;\n",
       "    }\n",
       "\n",
       "    .dataframe tbody tr th {\n",
       "        vertical-align: top;\n",
       "    }\n",
       "\n",
       "    .dataframe thead th {\n",
       "        text-align: right;\n",
       "    }\n",
       "</style>\n",
       "<table border=\"1\" class=\"dataframe\">\n",
       "  <thead>\n",
       "    <tr style=\"text-align: right;\">\n",
       "      <th></th>\n",
       "      <th>y</th>\n",
       "    </tr>\n",
       "  </thead>\n",
       "  <tbody>\n",
       "    <tr>\n",
       "      <th>0</th>\n",
       "      <td>18250</td>\n",
       "    </tr>\n",
       "    <tr>\n",
       "      <th>1</th>\n",
       "      <td>24316</td>\n",
       "    </tr>\n",
       "    <tr>\n",
       "      <th>2</th>\n",
       "      <td>17066</td>\n",
       "    </tr>\n",
       "    <tr>\n",
       "      <th>3</th>\n",
       "      <td>29603</td>\n",
       "    </tr>\n",
       "    <tr>\n",
       "      <th>4</th>\n",
       "      <td>25353</td>\n",
       "    </tr>\n",
       "  </tbody>\n",
       "</table>\n",
       "</div>"
      ],
      "text/plain": [
       "       y\n",
       "0  18250\n",
       "1  24316\n",
       "2  17066\n",
       "3  29603\n",
       "4  25353"
      ]
     },
     "execution_count": 25,
     "metadata": {},
     "output_type": "execute_result"
    }
   ],
   "source": [
    "y=pd.DataFrame(all_df_pickup, columns=['y'])\n",
    "y.head()"
   ]
  },
  {
   "cell_type": "code",
   "execution_count": 26,
   "metadata": {
    "scrolled": false
   },
   "outputs": [
    {
     "data": {
      "text/html": [
       "<div>\n",
       "<style scoped>\n",
       "    .dataframe tbody tr th:only-of-type {\n",
       "        vertical-align: middle;\n",
       "    }\n",
       "\n",
       "    .dataframe tbody tr th {\n",
       "        vertical-align: top;\n",
       "    }\n",
       "\n",
       "    .dataframe thead th {\n",
       "        text-align: right;\n",
       "    }\n",
       "</style>\n",
       "<table border=\"1\" class=\"dataframe\">\n",
       "  <thead>\n",
       "    <tr style=\"text-align: right;\">\n",
       "      <th></th>\n",
       "      <th>stage</th>\n",
       "      <th>gameday</th>\n",
       "      <th>time</th>\n",
       "      <th>home</th>\n",
       "      <th>away</th>\n",
       "      <th>stadium</th>\n",
       "      <th>capa</th>\n",
       "    </tr>\n",
       "  </thead>\n",
       "  <tbody>\n",
       "    <tr>\n",
       "      <th>0</th>\n",
       "      <td>0</td>\n",
       "      <td>1</td>\n",
       "      <td>3</td>\n",
       "      <td>15353.904762</td>\n",
       "      <td>20289.139535</td>\n",
       "      <td>15309.292683</td>\n",
       "      <td>19694</td>\n",
       "    </tr>\n",
       "    <tr>\n",
       "      <th>1</th>\n",
       "      <td>0</td>\n",
       "      <td>1</td>\n",
       "      <td>3</td>\n",
       "      <td>17226.744186</td>\n",
       "      <td>16572.761905</td>\n",
       "      <td>20624.360000</td>\n",
       "      <td>40000</td>\n",
       "    </tr>\n",
       "    <tr>\n",
       "      <th>2</th>\n",
       "      <td>0</td>\n",
       "      <td>1</td>\n",
       "      <td>3</td>\n",
       "      <td>13449.891304</td>\n",
       "      <td>11431.478261</td>\n",
       "      <td>13449.891304</td>\n",
       "      <td>21000</td>\n",
       "    </tr>\n",
       "    <tr>\n",
       "      <th>3</th>\n",
       "      <td>0</td>\n",
       "      <td>1</td>\n",
       "      <td>3</td>\n",
       "      <td>16494.209302</td>\n",
       "      <td>23127.880952</td>\n",
       "      <td>16494.209302</td>\n",
       "      <td>50000</td>\n",
       "    </tr>\n",
       "    <tr>\n",
       "      <th>4</th>\n",
       "      <td>0</td>\n",
       "      <td>1</td>\n",
       "      <td>3</td>\n",
       "      <td>10837.254902</td>\n",
       "      <td>14579.577778</td>\n",
       "      <td>13362.200000</td>\n",
       "      <td>39232</td>\n",
       "    </tr>\n",
       "  </tbody>\n",
       "</table>\n",
       "</div>"
      ],
      "text/plain": [
       "   stage  gameday  time          home          away       stadium   capa\n",
       "0      0        1     3  15353.904762  20289.139535  15309.292683  19694\n",
       "1      0        1     3  17226.744186  16572.761905  20624.360000  40000\n",
       "2      0        1     3  13449.891304  11431.478261  13449.891304  21000\n",
       "3      0        1     3  16494.209302  23127.880952  16494.209302  50000\n",
       "4      0        1     3  10837.254902  14579.577778  13362.200000  39232"
      ]
     },
     "execution_count": 26,
     "metadata": {},
     "output_type": "execute_result"
    }
   ],
   "source": [
    "x=all_df_pickup.drop('y',axis=1)\n",
    "x.head()"
   ]
  },
  {
   "cell_type": "code",
   "execution_count": 27,
   "metadata": {},
   "outputs": [],
   "source": [
    "#標準化\n",
    "from sklearn.preprocessing import StandardScaler\n",
    "ss = StandardScaler()\n",
    "x_std = ss.fit_transform(x)\n",
    "y_std = ss.fit_transform(y)\n",
    "from sklearn.model_selection import train_test_split\n",
    "x_std_train, x_std_test, y_std_train, y_std_test = train_test_split(x_std, y_std, test_size = 0.3, random_state = 0)"
   ]
  },
  {
   "cell_type": "code",
   "execution_count": 28,
   "metadata": {},
   "outputs": [
    {
     "name": "stdout",
     "output_type": "stream",
     "text": [
      "[0.00455082]\n",
      "[[ 0.19079635  0.09820575 -0.00275086  0.51822925  0.33015018  0.25008631\n",
      "   0.08172441]]\n"
     ]
    }
   ],
   "source": [
    "#標準化重回帰分析\n",
    "# 重回帰の線形回帰を実行\n",
    "from sklearn.linear_model import LinearRegression\n",
    "lr = LinearRegression()\n",
    "# 重回帰線形モデルの学習\n",
    "lr.fit(x_std_train, y_std_train)\n",
    "print(lr.intercept_)\n",
    "print(lr.coef_)"
   ]
  },
  {
   "cell_type": "code",
   "execution_count": 29,
   "metadata": {},
   "outputs": [
    {
     "data": {
      "text/plain": [
       "LinearRegression(copy_X=True, fit_intercept=True, n_jobs=1, normalize=False)"
      ]
     },
     "execution_count": 29,
     "metadata": {},
     "output_type": "execute_result"
    }
   ],
   "source": [
    "#1次回帰\n",
    "# 重回帰の線形回帰を実行\n",
    "from sklearn.linear_model import LinearRegression\n",
    "lr = LinearRegression()\n",
    "from sklearn.model_selection import train_test_split\n",
    "x_train, x_test, y_train, y_test = train_test_split(x, y, test_size = 0.3, random_state = 0)\n",
    "# 重回帰線形モデルの学習\n",
    "lr.fit(x_train, y_train)"
   ]
  },
  {
   "cell_type": "code",
   "execution_count": 30,
   "metadata": {},
   "outputs": [
    {
     "data": {
      "text/plain": [
       "LinearRegression(copy_X=True, fit_intercept=True, n_jobs=1, normalize=False)"
      ]
     },
     "execution_count": 30,
     "metadata": {},
     "output_type": "execute_result"
    }
   ],
   "source": [
    "#２次回帰\n",
    "# 重回帰の線形回帰を実行\n",
    "from sklearn.linear_model import LinearRegression\n",
    "# 2次関数の変数変換\n",
    "from sklearn.preprocessing import PolynomialFeatures\n",
    "# 2次の多項式規定を生成\n",
    "quad = PolynomialFeatures(degree=2)\n",
    "# 生成した基底関数で変数変換を実行\n",
    "x_quad = quad.fit_transform(x)\n",
    "# random_stateを0に固定してあるので､毎回同じサンプルに分割\n",
    "x_quad_train, x_quad_test,y_quad_train, y_quad_train = train_test_split(x_quad, y, test_size = 0.3, random_state = 0)\n",
    "# 線形回帰による学習\n",
    "model_quad_2 = LinearRegression()\n",
    "model_quad_2.fit(x_quad_train, y_train)"
   ]
  },
  {
   "cell_type": "code",
   "execution_count": 31,
   "metadata": {},
   "outputs": [
    {
     "data": {
      "text/plain": [
       "LinearRegression(copy_X=True, fit_intercept=True, n_jobs=1, normalize=False)"
      ]
     },
     "execution_count": 31,
     "metadata": {},
     "output_type": "execute_result"
    }
   ],
   "source": [
    "#3次回帰\n",
    "# 3次関数の変数変換\n",
    "from sklearn.preprocessing import PolynomialFeatures\n",
    "# 3次の多項式規定を生成\n",
    "cubic = PolynomialFeatures(degree=3)\n",
    "# 生成した基底関数で変数変換を実行\n",
    "x_cubic = cubic.fit_transform(x)\n",
    "# random_stateを0に固定してあるので､毎回同じサンプルに分割\n",
    "x_cubic_train, x_cubic_test,y_cubic_train, y_cubic_train = train_test_split(x_cubic, y, test_size = 0.3, random_state = 0)\n",
    "# 線形回帰による学習\n",
    "model_cubic_3 = LinearRegression()\n",
    "model_cubic_3.fit(x_cubic_train, y_train)"
   ]
  },
  {
   "cell_type": "code",
   "execution_count": 32,
   "metadata": {
    "scrolled": true
   },
   "outputs": [
    {
     "name": "stdout",
     "output_type": "stream",
     "text": [
      "1次\n",
      "train: 0.822725\n",
      "test : 0.844141\n",
      "2次\n",
      "train: 0.859\n",
      "test : 0.868\n",
      "3次\n",
      "train: 0.863\n",
      "test : 0.848\n",
      "\n"
     ]
    }
   ],
   "source": [
    "# 自由度調整済み決定係数\n",
    "# (決定係数, trainまたはtestのサンプル数, 利用した特徴量の数)\n",
    "def adjusted(score, n_sample, n_features):\n",
    "    adjusted_score = 1 - (1 - score) * ((n_sample - 1) / (n_sample - n_features - 1))\n",
    "    return adjusted_score\n",
    "#1次関数\n",
    "print('1次')\n",
    "print('train: %3f' % adjusted(lr.score(x_train, y_train), len(y_train), 2))\n",
    "print('test : %3f' % adjusted(lr.score(x_test, y_test), len(y_test), 2))\n",
    "# 2次関数\n",
    "print('2次')\n",
    "print('train: %.3f' % adjusted(model_quad_2.score(x_quad_train, y_train), len(y_train), 3))\n",
    "print('test : %.3f' % adjusted(model_quad_2.score(x_quad_test, y_test), len(y_test), 3))\n",
    "# 3次関数\n",
    "print('3次')\n",
    "print('train: %.3f' % adjusted(model_cubic_3.score(x_cubic_train, y_train), len(y_train), 3))\n",
    "print('test : %.3f' % adjusted(model_cubic_3.score(x_cubic_test, y_test), len(y_test), 3))\n",
    "print('')"
   ]
  },
  {
   "cell_type": "code",
   "execution_count": 33,
   "metadata": {
    "scrolled": false
   },
   "outputs": [
    {
     "name": "stdout",
     "output_type": "stream",
     "text": [
      "1次\n",
      "train: 3347.160\n",
      "test : 3212.319\n",
      "2次\n",
      "train: 2984.082\n",
      "test : 2950.222\n",
      "3次\n",
      "train: 2943.628\n",
      "test : 3173.844\n"
     ]
    }
   ],
   "source": [
    "# MSEを出力する関数を読み込む\n",
    "from sklearn.metrics import mean_squared_error as mse\n",
    "\n",
    "#1次関数\n",
    "print('1次')\n",
    "print('train: %.3f' % (mse(y_train, lr.predict(x_train)) ** (1/2)))\n",
    "print('test : %.3f' % (mse(y_test, lr.predict(x_test)) ** (1/2)))\n",
    "#2次関数\n",
    "print('2次')\n",
    "print('train: %.3f' % (mse(y_train, model_quad_2.predict(x_quad_train)) ** (1/2)))\n",
    "print('test : %.3f' % (mse(y_test, model_quad_2.predict(x_quad_test)) ** (1/2)))\n",
    "#3次関数\n",
    "print('3次')\n",
    "print('train: %.3f' % (mse(y_train, model_cubic_3.predict(x_cubic_train)) ** (1/2)))\n",
    "print('test : %.3f' % (mse(y_test, model_cubic_3.predict(x_cubic_test)) ** (1/2)))"
   ]
  },
  {
   "cell_type": "code",
   "execution_count": 34,
   "metadata": {},
   "outputs": [
    {
     "data": {
      "text/html": [
       "<div>\n",
       "<style scoped>\n",
       "    .dataframe tbody tr th:only-of-type {\n",
       "        vertical-align: middle;\n",
       "    }\n",
       "\n",
       "    .dataframe tbody tr th {\n",
       "        vertical-align: top;\n",
       "    }\n",
       "\n",
       "    .dataframe thead th {\n",
       "        text-align: right;\n",
       "    }\n",
       "</style>\n",
       "<table border=\"1\" class=\"dataframe\">\n",
       "  <thead>\n",
       "    <tr style=\"text-align: right;\">\n",
       "      <th></th>\n",
       "      <th>stage</th>\n",
       "      <th>gameday</th>\n",
       "      <th>time</th>\n",
       "      <th>home</th>\n",
       "      <th>away</th>\n",
       "      <th>stadium</th>\n",
       "      <th>capa</th>\n",
       "    </tr>\n",
       "  </thead>\n",
       "  <tbody>\n",
       "    <tr>\n",
       "      <th>0</th>\n",
       "      <td>Ｊ１</td>\n",
       "      <td>08/02(土)</td>\n",
       "      <td>19:04</td>\n",
       "      <td>ベガルタ仙台</td>\n",
       "      <td>大宮アルディージャ</td>\n",
       "      <td>ユアテックスタジアム仙台</td>\n",
       "      <td>19694</td>\n",
       "    </tr>\n",
       "    <tr>\n",
       "      <th>1</th>\n",
       "      <td>Ｊ１</td>\n",
       "      <td>08/02(土)</td>\n",
       "      <td>18:34</td>\n",
       "      <td>鹿島アントラーズ</td>\n",
       "      <td>サンフレッチェ広島</td>\n",
       "      <td>県立カシマサッカースタジアム</td>\n",
       "      <td>40728</td>\n",
       "    </tr>\n",
       "    <tr>\n",
       "      <th>2</th>\n",
       "      <td>Ｊ１</td>\n",
       "      <td>08/02(土)</td>\n",
       "      <td>19:04</td>\n",
       "      <td>浦和レッズ</td>\n",
       "      <td>ヴィッセル神戸</td>\n",
       "      <td>埼玉スタジアム２００２</td>\n",
       "      <td>63700</td>\n",
       "    </tr>\n",
       "    <tr>\n",
       "      <th>3</th>\n",
       "      <td>Ｊ１</td>\n",
       "      <td>08/02(土)</td>\n",
       "      <td>19:03</td>\n",
       "      <td>柏レイソル</td>\n",
       "      <td>川崎フロンターレ</td>\n",
       "      <td>日立柏サッカー場</td>\n",
       "      <td>15349</td>\n",
       "    </tr>\n",
       "    <tr>\n",
       "      <th>4</th>\n",
       "      <td>Ｊ１</td>\n",
       "      <td>08/02(土)</td>\n",
       "      <td>19:03</td>\n",
       "      <td>アルビレックス新潟</td>\n",
       "      <td>セレッソ大阪</td>\n",
       "      <td>デンカビッグスワンスタジアム</td>\n",
       "      <td>42300</td>\n",
       "    </tr>\n",
       "  </tbody>\n",
       "</table>\n",
       "</div>"
      ],
      "text/plain": [
       "  stage   gameday   time       home       away         stadium   capa\n",
       "0    Ｊ１  08/02(土)  19:04     ベガルタ仙台  大宮アルディージャ    ユアテックスタジアム仙台  19694\n",
       "1    Ｊ１  08/02(土)  18:34   鹿島アントラーズ  サンフレッチェ広島  県立カシマサッカースタジアム  40728\n",
       "2    Ｊ１  08/02(土)  19:04      浦和レッズ    ヴィッセル神戸     埼玉スタジアム２００２  63700\n",
       "3    Ｊ１  08/02(土)  19:03      柏レイソル   川崎フロンターレ        日立柏サッカー場  15349\n",
       "4    Ｊ１  08/02(土)  19:03  アルビレックス新潟     セレッソ大阪  デンカビッグスワンスタジアム  42300"
      ]
     },
     "execution_count": 34,
     "metadata": {},
     "output_type": "execute_result"
    }
   ],
   "source": [
    "#testデータに適用\n",
    "test_df_pickup=test_df.loc[:,[ 'stage', 'gameday', 'time', 'home', 'away','stadium', 'capa']]\n",
    "test_df_pickup.head()"
   ]
  },
  {
   "cell_type": "code",
   "execution_count": 35,
   "metadata": {},
   "outputs": [
    {
     "data": {
      "text/html": [
       "<div>\n",
       "<style scoped>\n",
       "    .dataframe tbody tr th:only-of-type {\n",
       "        vertical-align: middle;\n",
       "    }\n",
       "\n",
       "    .dataframe tbody tr th {\n",
       "        vertical-align: top;\n",
       "    }\n",
       "\n",
       "    .dataframe thead th {\n",
       "        text-align: right;\n",
       "    }\n",
       "</style>\n",
       "<table border=\"1\" class=\"dataframe\">\n",
       "  <thead>\n",
       "    <tr style=\"text-align: right;\">\n",
       "      <th></th>\n",
       "      <th>stage</th>\n",
       "      <th>gameday</th>\n",
       "      <th>time</th>\n",
       "      <th>home</th>\n",
       "      <th>away</th>\n",
       "      <th>stadium</th>\n",
       "      <th>capa</th>\n",
       "    </tr>\n",
       "  </thead>\n",
       "  <tbody>\n",
       "    <tr>\n",
       "      <th>0</th>\n",
       "      <td>0</td>\n",
       "      <td>1</td>\n",
       "      <td>3</td>\n",
       "      <td>15353.9</td>\n",
       "      <td>15682.9</td>\n",
       "      <td>15309.3</td>\n",
       "      <td>19694</td>\n",
       "    </tr>\n",
       "    <tr>\n",
       "      <th>1</th>\n",
       "      <td>0</td>\n",
       "      <td>1</td>\n",
       "      <td>3</td>\n",
       "      <td>15814.7</td>\n",
       "      <td>18655.7</td>\n",
       "      <td>15814.7</td>\n",
       "      <td>40728</td>\n",
       "    </tr>\n",
       "    <tr>\n",
       "      <th>2</th>\n",
       "      <td>0</td>\n",
       "      <td>1</td>\n",
       "      <td>3</td>\n",
       "      <td>37248.7</td>\n",
       "      <td>11431.5</td>\n",
       "      <td>37248.7</td>\n",
       "      <td>63700</td>\n",
       "    </tr>\n",
       "    <tr>\n",
       "      <th>3</th>\n",
       "      <td>0</td>\n",
       "      <td>1</td>\n",
       "      <td>3</td>\n",
       "      <td>12885.9</td>\n",
       "      <td>18084.5</td>\n",
       "      <td>11348.8</td>\n",
       "      <td>15349</td>\n",
       "    </tr>\n",
       "    <tr>\n",
       "      <th>4</th>\n",
       "      <td>0</td>\n",
       "      <td>1</td>\n",
       "      <td>3</td>\n",
       "      <td>25154.9</td>\n",
       "      <td>19869.5</td>\n",
       "      <td>25154.9</td>\n",
       "      <td>42300</td>\n",
       "    </tr>\n",
       "  </tbody>\n",
       "</table>\n",
       "</div>"
      ],
      "text/plain": [
       "   stage  gameday  time     home     away  stadium   capa\n",
       "0      0        1     3  15353.9  15682.9  15309.3  19694\n",
       "1      0        1     3  15814.7  18655.7  15814.7  40728\n",
       "2      0        1     3  37248.7  11431.5  37248.7  63700\n",
       "3      0        1     3  12885.9  18084.5  11348.8  15349\n",
       "4      0        1     3  25154.9  19869.5  25154.9  42300"
      ]
     },
     "execution_count": 35,
     "metadata": {},
     "output_type": "execute_result"
    }
   ],
   "source": [
    "##前処理\n",
    "#gameday→曜日\n",
    "test_df_pickup['gameday'] = test_df_pickup['gameday'].apply(lambda x: x[:-1].rsplit('(', 1)[-1])\n",
    "#曜日マッピング\n",
    "for i in range(len(test_df_pickup)):\n",
    "    if test_df_pickup.loc[i,'gameday'] =='水':\n",
    "        test_df_pickup.loc[i,'gameday']=0\n",
    "    else:\n",
    "        test_df_pickup.loc[i,'gameday']=1\n",
    "#time→〇時\n",
    "test_df_pickup['time'] =test_df_pickup['time'].apply(lambda x: x.split(':', 1)[0])\n",
    "#〇時→デイorナイト\n",
    "for i in range(len(test_df_pickup)):\n",
    "    if test_df_pickup.loc[i,'time'] =='18':\n",
    "        test_df_pickup.loc[i,'time']=0\n",
    "    elif test_df_pickup.loc[i,'time']=='19':\n",
    "        test_df_pickup.loc[i,'time']=0\n",
    "    else:\n",
    "        test_df_pickup.loc[i,'time']=1\n",
    "#曜日＆デイorナイト　マッピング\n",
    "for i in range(len(test_df_pickup)):\n",
    "    if test_df_pickup.loc[i,'gameday'] ==0 and test_df.loc[i,'time']==1:\n",
    "        test_df_pickup.loc[i,'time']=0\n",
    "    elif test_df_pickup.loc[i,'gameday'] ==0 and test_df.loc[i,'time']==0:\n",
    "        test_df_pickup.loc[i,'time']=1\n",
    "    elif test_df_pickup.loc[i,'gameday'] ==1 and test_df.loc[i,'time']==0:\n",
    "        test_df_pickup.loc[i,'time']=2\n",
    "    else:\n",
    "        test_df_pickup.loc[i,'time']=3\n",
    "#stageのマッピング \n",
    "for column in ['stage']:\n",
    "    le = preprocessing.LabelEncoder()\n",
    "    le.fit(test_df[column])\n",
    "    test_df_pickup[column] = le.transform(test_df_pickup[column])\n",
    "#homeのマッピング\n",
    "for i in range(len(test_df_pickup)):\n",
    "    for j in range(len(home_df)):\n",
    "        if test_df_pickup.loc[i,'home']==home_df.loc[j,'home']:\n",
    "            test_df_pickup.loc[i,'home']=all_df.loc[j,'home']\n",
    "            break\n",
    "#awayのマッピング\n",
    "for i in range(len(test_df_pickup)):\n",
    "    for j in range(len(away_df)):\n",
    "        if test_df_pickup.loc[i,'away']==away_df.loc[j,'away']:\n",
    "            test_df_pickup.loc[i,'away']=all_df.loc[j,'away']\n",
    "            break\n",
    "#stadiumのマッピング\n",
    "for i in range(len(test_df_pickup)):\n",
    "    for j in range(len(stadium_df)):\n",
    "        if test_df_pickup.loc[i,'stadium']==stadium_df.loc[j,'stadium']:\n",
    "            test_df_pickup.loc[i,'stadium']=all_df.loc[j,'stadium']\n",
    "            break\n",
    "\n",
    "test_df_pickup.head()"
   ]
  },
  {
   "cell_type": "code",
   "execution_count": 36,
   "metadata": {},
   "outputs": [
    {
     "data": {
      "text/plain": [
       "array([14622.74111196, 18197.49303583, 34532.95587771, 11455.57330668,\n",
       "       28128.04312517])"
      ]
     },
     "execution_count": 36,
     "metadata": {},
     "output_type": "execute_result"
    }
   ],
   "source": [
    "x_test_quad = quad.fit_transform(test_df_pickup)\n",
    "y_pred=model_quad_2.predict(x_test_quad).reshape(-1)\n",
    "y_pred[:5]"
   ]
  },
  {
   "cell_type": "code",
   "execution_count": 38,
   "metadata": {},
   "outputs": [],
   "source": [
    "# 提出csvファイルの作成\n",
    "submit_file = pd.DataFrame({'id' : test_df['id'], 'y' : y_pred})\n",
    "submit_file.to_csv('submit_1.csv', index = False)"
   ]
  },
  {
   "cell_type": "code",
   "execution_count": null,
   "metadata": {},
   "outputs": [],
   "source": [
    "#2次回帰で提出してみた結果3612.518...→過学習が顕著に出た"
   ]
  },
  {
   "cell_type": "code",
   "execution_count": null,
   "metadata": {},
   "outputs": [],
   "source": [
    "#まず変数を減らしてみる"
   ]
  },
  {
   "cell_type": "code",
   "execution_count": 39,
   "metadata": {
    "scrolled": false
   },
   "outputs": [
    {
     "data": {
      "text/html": [
       "<div>\n",
       "<style scoped>\n",
       "    .dataframe tbody tr th:only-of-type {\n",
       "        vertical-align: middle;\n",
       "    }\n",
       "\n",
       "    .dataframe tbody tr th {\n",
       "        vertical-align: top;\n",
       "    }\n",
       "\n",
       "    .dataframe thead th {\n",
       "        text-align: right;\n",
       "    }\n",
       "</style>\n",
       "<table border=\"1\" class=\"dataframe\">\n",
       "  <thead>\n",
       "    <tr style=\"text-align: right;\">\n",
       "      <th></th>\n",
       "      <th>stage</th>\n",
       "      <th>gameday</th>\n",
       "      <th>home</th>\n",
       "      <th>away</th>\n",
       "      <th>stadium</th>\n",
       "      <th>capa</th>\n",
       "    </tr>\n",
       "  </thead>\n",
       "  <tbody>\n",
       "    <tr>\n",
       "      <th>0</th>\n",
       "      <td>0</td>\n",
       "      <td>1</td>\n",
       "      <td>15353.904762</td>\n",
       "      <td>20289.139535</td>\n",
       "      <td>15309.292683</td>\n",
       "      <td>19694</td>\n",
       "    </tr>\n",
       "    <tr>\n",
       "      <th>1</th>\n",
       "      <td>0</td>\n",
       "      <td>1</td>\n",
       "      <td>17226.744186</td>\n",
       "      <td>16572.761905</td>\n",
       "      <td>20624.360000</td>\n",
       "      <td>40000</td>\n",
       "    </tr>\n",
       "    <tr>\n",
       "      <th>2</th>\n",
       "      <td>0</td>\n",
       "      <td>1</td>\n",
       "      <td>13449.891304</td>\n",
       "      <td>11431.478261</td>\n",
       "      <td>13449.891304</td>\n",
       "      <td>21000</td>\n",
       "    </tr>\n",
       "    <tr>\n",
       "      <th>3</th>\n",
       "      <td>0</td>\n",
       "      <td>1</td>\n",
       "      <td>16494.209302</td>\n",
       "      <td>23127.880952</td>\n",
       "      <td>16494.209302</td>\n",
       "      <td>50000</td>\n",
       "    </tr>\n",
       "    <tr>\n",
       "      <th>4</th>\n",
       "      <td>0</td>\n",
       "      <td>1</td>\n",
       "      <td>10837.254902</td>\n",
       "      <td>14579.577778</td>\n",
       "      <td>13362.200000</td>\n",
       "      <td>39232</td>\n",
       "    </tr>\n",
       "  </tbody>\n",
       "</table>\n",
       "</div>"
      ],
      "text/plain": [
       "   stage  gameday          home          away       stadium   capa\n",
       "0      0        1  15353.904762  20289.139535  15309.292683  19694\n",
       "1      0        1  17226.744186  16572.761905  20624.360000  40000\n",
       "2      0        1  13449.891304  11431.478261  13449.891304  21000\n",
       "3      0        1  16494.209302  23127.880952  16494.209302  50000\n",
       "4      0        1  10837.254902  14579.577778  13362.200000  39232"
      ]
     },
     "execution_count": 39,
     "metadata": {},
     "output_type": "execute_result"
    }
   ],
   "source": [
    "#timeを減らす\n",
    "all_df_pickup1=all_df_pickup.loc[:,['y', 'stage', 'gameday', 'home', 'away', 'stadium','capa']]\n",
    "y1=pd.DataFrame(all_df_pickup1, columns=['y'])\n",
    "x1=all_df_pickup1.drop('y',axis=1)\n",
    "x1.head()"
   ]
  },
  {
   "cell_type": "code",
   "execution_count": 40,
   "metadata": {},
   "outputs": [
    {
     "data": {
      "text/plain": [
       "LinearRegression(copy_X=True, fit_intercept=True, n_jobs=1, normalize=False)"
      ]
     },
     "execution_count": 40,
     "metadata": {},
     "output_type": "execute_result"
    }
   ],
   "source": [
    "#1次回帰\n",
    "from sklearn.linear_model import LinearRegression\n",
    "lr = LinearRegression()\n",
    "from sklearn.model_selection import train_test_split\n",
    "x_train, x_test, y_train, y_test = train_test_split(x1, y, test_size = 0.3, random_state = 0)\n",
    "lr.fit(x_train, y_train)\n",
    "\n",
    "#２次回帰\n",
    "from sklearn.preprocessing import PolynomialFeatures\n",
    "quad = PolynomialFeatures(degree=2)\n",
    "x_quad = quad.fit_transform(x1)\n",
    "x_quad_train, x_quad_test,y_quad_train, y_quad_train = train_test_split(x_quad, y, test_size = 0.3, random_state = 0)\n",
    "model_quad_2 = LinearRegression()\n",
    "model_quad_2.fit(x_quad_train, y_train)\n",
    "\n",
    "#3次回帰\n",
    "cubic = PolynomialFeatures(degree=3)\n",
    "x_cubic = cubic.fit_transform(x1)\n",
    "x_cubic_train, x_cubic_test,y_cubic_train, y_cubic_test = train_test_split(x_cubic, y, test_size = 0.3, random_state = 0)\n",
    "model_cubic_3 = LinearRegression()\n",
    "model_cubic_3.fit(x_cubic_train, y_train)"
   ]
  },
  {
   "cell_type": "code",
   "execution_count": 41,
   "metadata": {},
   "outputs": [
    {
     "name": "stdout",
     "output_type": "stream",
     "text": [
      "1次\n",
      "train: 0.822721\n",
      "test : 0.844079\n",
      "2次\n",
      "train: 0.857\n",
      "test : 0.869\n",
      "3次\n",
      "train: 0.868\n",
      "test : 0.856\n",
      "\n",
      "1次\n",
      "train: 3347.197\n",
      "test : 3212.957\n",
      "2次\n",
      "train: 3002.941\n",
      "test : 2946.571\n",
      "3次\n",
      "train: 2891.713\n",
      "test : 3084.305\n"
     ]
    }
   ],
   "source": [
    "# 自由度調整済み決定係数\n",
    "# (決定係数, trainまたはtestのサンプル数, 利用した特徴量の数)\n",
    "def adjusted(score, n_sample, n_features):\n",
    "    adjusted_score = 1 - (1 - score) * ((n_sample - 1) / (n_sample - n_features - 1))\n",
    "    return adjusted_score\n",
    "#1次関数\n",
    "print('1次')\n",
    "print('train: %3f' % adjusted(lr.score(x_train, y_train), len(y_train), 2))\n",
    "print('test : %3f' % adjusted(lr.score(x_test, y_test), len(y_test), 2))\n",
    "# 2次関数\n",
    "print('2次')\n",
    "print('train: %.3f' % adjusted(model_quad_2.score(x_quad_train, y_train), len(y_train), 3))\n",
    "print('test : %.3f' % adjusted(model_quad_2.score(x_quad_test, y_test), len(y_test), 3))\n",
    "# 3次関数\n",
    "print('3次')\n",
    "print('train: %.3f' % adjusted(model_cubic_3.score(x_cubic_train, y_train), len(y_train), 3))\n",
    "print('test : %.3f' % adjusted(model_cubic_3.score(x_cubic_test, y_test), len(y_test), 3))\n",
    "print('')\n",
    "\n",
    "# MSEを出力する関数を読み込む\n",
    "from sklearn.metrics import mean_squared_error as mse\n",
    "\n",
    "#1次関数\n",
    "print('1次')\n",
    "print('train: %.3f' % (mse(y_train, lr.predict(x_train)) ** (1/2)))\n",
    "print('test : %.3f' % (mse(y_test, lr.predict(x_test)) ** (1/2)))\n",
    "#2次関数\n",
    "print('2次')\n",
    "print('train: %.3f' % (mse(y_train, model_quad_2.predict(x_quad_train)) ** (1/2)))\n",
    "print('test : %.3f' % (mse(y_test, model_quad_2.predict(x_quad_test)) ** (1/2)))\n",
    "#3次関数\n",
    "print('3次')\n",
    "print('train: %.3f' % (mse(y_train, model_cubic_3.predict(x_cubic_train)) ** (1/2)))\n",
    "print('test : %.3f' % (mse(y_test, model_cubic_3.predict(x_cubic_test)) ** (1/2)))"
   ]
  },
  {
   "cell_type": "code",
   "execution_count": 44,
   "metadata": {
    "scrolled": true
   },
   "outputs": [
    {
     "data": {
      "text/html": [
       "<div>\n",
       "<style scoped>\n",
       "    .dataframe tbody tr th:only-of-type {\n",
       "        vertical-align: middle;\n",
       "    }\n",
       "\n",
       "    .dataframe tbody tr th {\n",
       "        vertical-align: top;\n",
       "    }\n",
       "\n",
       "    .dataframe thead th {\n",
       "        text-align: right;\n",
       "    }\n",
       "</style>\n",
       "<table border=\"1\" class=\"dataframe\">\n",
       "  <thead>\n",
       "    <tr style=\"text-align: right;\">\n",
       "      <th></th>\n",
       "      <th>stage</th>\n",
       "      <th>gameday</th>\n",
       "      <th>home</th>\n",
       "      <th>away</th>\n",
       "      <th>stadium</th>\n",
       "      <th>capa</th>\n",
       "    </tr>\n",
       "  </thead>\n",
       "  <tbody>\n",
       "    <tr>\n",
       "      <th>0</th>\n",
       "      <td>0</td>\n",
       "      <td>1</td>\n",
       "      <td>15353.9</td>\n",
       "      <td>15682.9</td>\n",
       "      <td>15309.3</td>\n",
       "      <td>19694</td>\n",
       "    </tr>\n",
       "    <tr>\n",
       "      <th>1</th>\n",
       "      <td>0</td>\n",
       "      <td>1</td>\n",
       "      <td>15814.7</td>\n",
       "      <td>18655.7</td>\n",
       "      <td>15814.7</td>\n",
       "      <td>40728</td>\n",
       "    </tr>\n",
       "    <tr>\n",
       "      <th>2</th>\n",
       "      <td>0</td>\n",
       "      <td>1</td>\n",
       "      <td>37248.7</td>\n",
       "      <td>11431.5</td>\n",
       "      <td>37248.7</td>\n",
       "      <td>63700</td>\n",
       "    </tr>\n",
       "    <tr>\n",
       "      <th>3</th>\n",
       "      <td>0</td>\n",
       "      <td>1</td>\n",
       "      <td>12885.9</td>\n",
       "      <td>18084.5</td>\n",
       "      <td>11348.8</td>\n",
       "      <td>15349</td>\n",
       "    </tr>\n",
       "    <tr>\n",
       "      <th>4</th>\n",
       "      <td>0</td>\n",
       "      <td>1</td>\n",
       "      <td>25154.9</td>\n",
       "      <td>19869.5</td>\n",
       "      <td>25154.9</td>\n",
       "      <td>42300</td>\n",
       "    </tr>\n",
       "  </tbody>\n",
       "</table>\n",
       "</div>"
      ],
      "text/plain": [
       "   stage  gameday     home     away  stadium   capa\n",
       "0      0        1  15353.9  15682.9  15309.3  19694\n",
       "1      0        1  15814.7  18655.7  15814.7  40728\n",
       "2      0        1  37248.7  11431.5  37248.7  63700\n",
       "3      0        1  12885.9  18084.5  11348.8  15349\n",
       "4      0        1  25154.9  19869.5  25154.9  42300"
      ]
     },
     "execution_count": 44,
     "metadata": {},
     "output_type": "execute_result"
    }
   ],
   "source": [
    "#testデータに適用\n",
    "test_df_pickup1=test_df_pickup.loc[:,[ 'stage', 'gameday', 'home', 'away', 'stadium','capa']]\n",
    "test_df_pickup1.head()"
   ]
  },
  {
   "cell_type": "code",
   "execution_count": 45,
   "metadata": {},
   "outputs": [],
   "source": [
    "x_test_quad = quad.fit_transform(test_df_pickup1)\n",
    "y_pred=model_quad_2.predict(x_test_quad).reshape(-1)\n",
    "submit_file = pd.DataFrame({'id' : test_df['id'], 'y' : y_pred})\n",
    "submit_file.to_csv('submit_2.csv', index = False)"
   ]
  },
  {
   "cell_type": "code",
   "execution_count": null,
   "metadata": {},
   "outputs": [],
   "source": [
    "#結果3642.57...ほぼほぼ変化なし（むしろ若干悪化）\n",
    "#やり方を変えてみる('capa','time'は戻す)"
   ]
  },
  {
   "cell_type": "code",
   "execution_count": 46,
   "metadata": {},
   "outputs": [
    {
     "data": {
      "text/html": [
       "<div>\n",
       "<style scoped>\n",
       "    .dataframe tbody tr th:only-of-type {\n",
       "        vertical-align: middle;\n",
       "    }\n",
       "\n",
       "    .dataframe tbody tr th {\n",
       "        vertical-align: top;\n",
       "    }\n",
       "\n",
       "    .dataframe thead th {\n",
       "        text-align: right;\n",
       "    }\n",
       "</style>\n",
       "<table border=\"1\" class=\"dataframe\">\n",
       "  <thead>\n",
       "    <tr style=\"text-align: right;\">\n",
       "      <th></th>\n",
       "      <th>year</th>\n",
       "      <th>stage</th>\n",
       "      <th>match</th>\n",
       "      <th>gameday</th>\n",
       "      <th>time</th>\n",
       "      <th>home</th>\n",
       "      <th>away</th>\n",
       "      <th>stadium</th>\n",
       "      <th>tv</th>\n",
       "      <th>weather</th>\n",
       "      <th>temperature</th>\n",
       "      <th>humidity</th>\n",
       "      <th>capa</th>\n",
       "    </tr>\n",
       "  </thead>\n",
       "  <tbody>\n",
       "    <tr>\n",
       "      <th>0</th>\n",
       "      <td>2012</td>\n",
       "      <td>0</td>\n",
       "      <td>１</td>\n",
       "      <td>1</td>\n",
       "      <td>3</td>\n",
       "      <td>15353.904762</td>\n",
       "      <td>20289.139535</td>\n",
       "      <td>15309.292683</td>\n",
       "      <td>0</td>\n",
       "      <td>0</td>\n",
       "      <td>3.8</td>\n",
       "      <td>66</td>\n",
       "      <td>19694</td>\n",
       "    </tr>\n",
       "    <tr>\n",
       "      <th>1</th>\n",
       "      <td>2012</td>\n",
       "      <td>0</td>\n",
       "      <td>１</td>\n",
       "      <td>1</td>\n",
       "      <td>3</td>\n",
       "      <td>17226.744186</td>\n",
       "      <td>16572.761905</td>\n",
       "      <td>20624.360000</td>\n",
       "      <td>1</td>\n",
       "      <td>2</td>\n",
       "      <td>12.4</td>\n",
       "      <td>43</td>\n",
       "      <td>40000</td>\n",
       "    </tr>\n",
       "    <tr>\n",
       "      <th>2</th>\n",
       "      <td>2012</td>\n",
       "      <td>0</td>\n",
       "      <td>１</td>\n",
       "      <td>1</td>\n",
       "      <td>3</td>\n",
       "      <td>13449.891304</td>\n",
       "      <td>11431.478261</td>\n",
       "      <td>13449.891304</td>\n",
       "      <td>1</td>\n",
       "      <td>0</td>\n",
       "      <td>11.3</td>\n",
       "      <td>41</td>\n",
       "      <td>21000</td>\n",
       "    </tr>\n",
       "    <tr>\n",
       "      <th>3</th>\n",
       "      <td>2012</td>\n",
       "      <td>0</td>\n",
       "      <td>１</td>\n",
       "      <td>1</td>\n",
       "      <td>3</td>\n",
       "      <td>16494.209302</td>\n",
       "      <td>23127.880952</td>\n",
       "      <td>16494.209302</td>\n",
       "      <td>1</td>\n",
       "      <td>0</td>\n",
       "      <td>11.4</td>\n",
       "      <td>52</td>\n",
       "      <td>50000</td>\n",
       "    </tr>\n",
       "    <tr>\n",
       "      <th>4</th>\n",
       "      <td>2012</td>\n",
       "      <td>0</td>\n",
       "      <td>１</td>\n",
       "      <td>1</td>\n",
       "      <td>3</td>\n",
       "      <td>10837.254902</td>\n",
       "      <td>14579.577778</td>\n",
       "      <td>13362.200000</td>\n",
       "      <td>1</td>\n",
       "      <td>2</td>\n",
       "      <td>22.5</td>\n",
       "      <td>32</td>\n",
       "      <td>39232</td>\n",
       "    </tr>\n",
       "  </tbody>\n",
       "</table>\n",
       "</div>"
      ],
      "text/plain": [
       "   year  stage match  gameday  time          home          away       stadium  \\\n",
       "0  2012      0     １        1     3  15353.904762  20289.139535  15309.292683   \n",
       "1  2012      0     １        1     3  17226.744186  16572.761905  20624.360000   \n",
       "2  2012      0     １        1     3  13449.891304  11431.478261  13449.891304   \n",
       "3  2012      0     １        1     3  16494.209302  23127.880952  16494.209302   \n",
       "4  2012      0     １        1     3  10837.254902  14579.577778  13362.200000   \n",
       "\n",
       "   tv  weather  temperature humidity   capa  \n",
       "0   0        0          3.8       66  19694  \n",
       "1   1        2         12.4       43  40000  \n",
       "2   1        0         11.3       41  21000  \n",
       "3   1        0         11.4       52  50000  \n",
       "4   1        2         22.5       32  39232  "
      ]
     },
     "execution_count": 46,
     "metadata": {},
     "output_type": "execute_result"
    }
   ],
   "source": [
    "#LASSO回帰\n",
    "y_lasso=pd.DataFrame(all_df, columns=['y'])\n",
    "x_lasso=all_df.drop('y',axis=1)\n",
    "x_lasso=x_lasso.drop('id',axis=1)\n",
    "x_lasso.head()"
   ]
  },
  {
   "cell_type": "code",
   "execution_count": 47,
   "metadata": {
    "scrolled": true
   },
   "outputs": [
    {
     "name": "stderr",
     "output_type": "stream",
     "text": [
      "C:\\Users\\khaya\\Anaconda3\\lib\\site-packages\\sklearn\\linear_model\\coordinate_descent.py:491: ConvergenceWarning: Objective did not converge. You might want to increase the number of iterations. Fitting data with very small alpha may cause precision problems.\n",
      "  ConvergenceWarning)\n",
      "C:\\Users\\khaya\\Anaconda3\\lib\\site-packages\\sklearn\\linear_model\\coordinate_descent.py:491: ConvergenceWarning: Objective did not converge. You might want to increase the number of iterations. Fitting data with very small alpha may cause precision problems.\n",
      "  ConvergenceWarning)\n"
     ]
    },
    {
     "data": {
      "text/plain": [
       "Lasso(alpha=1000, copy_X=True, fit_intercept=True, max_iter=1000,\n",
       "   normalize=False, positive=False, precompute=False, random_state=None,\n",
       "   selection='cyclic', tol=0.0001, warm_start=False)"
      ]
     },
     "execution_count": 47,
     "metadata": {},
     "output_type": "execute_result"
    }
   ],
   "source": [
    "from sklearn.linear_model import Lasso\n",
    "# データを学習させる（１次）\n",
    "model_lasso_1= Lasso(alpha=1000)\n",
    "x_train, x_test, y_train, y_test = train_test_split(x, y, test_size = 0.3, random_state = 0)\n",
    "model_lasso_1.fit(x_train, y_train)\n",
    "# データを学習させる（２次）\n",
    "model_lasso_2= Lasso(alpha=1000)\n",
    "x_quad = quad.fit_transform(x)\n",
    "x_quad_train, x_quad_test,y_quad_train, y_quad_train = train_test_split(x_quad, y, test_size = 0.3, random_state = 0)\n",
    "model_lasso_2.fit(x_quad_train,y_train)\n",
    "# データを学習させる（３次）\n",
    "model_lasso_3= Lasso(alpha=1000)\n",
    "x_cubic = cubic.fit_transform(x)\n",
    "x_cubic_train, x_cubic_test,y_cubic_train, y_cubic_train = train_test_split(x_cubic, y, test_size = 0.3, random_state = 0)\n",
    "model_lasso_3.fit(x_cubic_train,y_train)"
   ]
  },
  {
   "cell_type": "code",
   "execution_count": 48,
   "metadata": {},
   "outputs": [
    {
     "name": "stdout",
     "output_type": "stream",
     "text": [
      "[0.         0.         0.         0.50689899 0.30427002 0.29275953\n",
      " 0.0565854 ]\n",
      "[ 0.00000000e+00 -0.00000000e+00 -0.00000000e+00 -0.00000000e+00\n",
      "  3.79560871e-01 -6.16297354e-01  5.29299698e-01 -2.14870270e-01\n",
      " -0.00000000e+00 -0.00000000e+00 -0.00000000e+00  3.23310585e-03\n",
      "  1.62578674e-01 -2.69795788e-01  1.26111168e-01 -0.00000000e+00\n",
      " -0.00000000e+00  1.68166480e-01  1.98211756e-01 -7.18873186e-02\n",
      " -3.50839417e-03 -0.00000000e+00 -1.05855728e-01 -1.16695086e-01\n",
      "  2.20930044e-01 -1.49695630e-03  7.06367236e-06 -3.39740891e-05\n",
      " -1.04504620e-05  1.70737804e-05  3.43840281e-05  1.16918857e-05\n",
      "  1.77464829e-05 -4.83945569e-06 -1.04674876e-05 -1.44701113e-06]\n",
      "[ 0.00000000e+00 -0.00000000e+00 -0.00000000e+00 -0.00000000e+00\n",
      "  5.98861820e-01 -2.66083718e-01  2.39092993e-01 -2.03044979e-01\n",
      " -0.00000000e+00 -0.00000000e+00 -0.00000000e+00 -8.80458416e-02\n",
      " -2.22359442e-01  4.73872942e-01 -2.44433238e-02 -0.00000000e+00\n",
      " -0.00000000e+00  4.23289394e-02  1.31950610e-01  9.74131156e-02\n",
      "  1.42023742e-03  0.00000000e+00 -1.02031338e-01 -1.19879040e-02\n",
      "  5.48601643e-02  9.06897060e-03 -1.00739363e-05 -2.67626812e-05\n",
      "  2.97897916e-06  2.09160056e-06  3.29692010e-06 -1.33735324e-05\n",
      "  1.07806838e-06  1.82447646e-05 -4.12823968e-06  1.48031825e-06\n",
      " -0.00000000e+00 -0.00000000e+00 -0.00000000e+00 -6.47677378e-01\n",
      " -2.87014068e-01  3.57077693e-01 -5.91735462e-02 -0.00000000e+00\n",
      " -0.00000000e+00  1.61411621e-01  7.93285248e-03 -1.54052446e-01\n",
      " -3.64945894e-02 -0.00000000e+00  6.72867495e-02 -1.37337765e-01\n",
      " -8.73613097e-03  1.78361098e-02 -6.18585502e-05  1.40879010e-04\n",
      "  3.31380466e-05  1.39550580e-05  2.08970766e-05 -9.87812406e-05\n",
      "  2.25230942e-05 -1.02852556e-05 -5.59879319e-06 -8.08767594e-07\n",
      " -0.00000000e+00 -0.00000000e+00  1.46884469e-01  1.37314263e-01\n",
      "  2.81513072e-02 -4.52287839e-02 -0.00000000e+00 -7.80511242e-02\n",
      "  1.85116401e-02  2.08371946e-02  1.09199873e-02 -2.38136198e-06\n",
      " -1.61483734e-05 -1.14821781e-06  3.47611357e-06 -7.47543302e-06\n",
      "  1.16034680e-05  2.26234334e-06  3.91018393e-06 -6.88759291e-06\n",
      "  1.04416817e-06  0.00000000e+00 -1.34703080e-02  6.42163370e-03\n",
      "  4.30595174e-03  4.22019633e-03  5.48382145e-06 -8.18926460e-06\n",
      "  9.83760073e-07  1.10153808e-06  2.84389342e-06 -3.16262124e-06\n",
      " -3.57986936e-07  5.68339068e-06 -2.46064892e-06 -1.14624008e-07\n",
      "  3.35903194e-10  6.62026269e-10 -7.38145891e-10  1.90338677e-10\n",
      "  6.15113412e-10 -3.10665242e-10  1.71002233e-10 -3.92325224e-10\n",
      " -2.16583837e-12  4.53112481e-11  1.55802338e-10  6.59174970e-10\n",
      "  4.35095521e-10  3.68323436e-10 -2.51895569e-10  5.95764618e-11\n",
      "  5.19748726e-11 -8.37700118e-11 -5.07795496e-11 -7.32013464e-12]\n"
     ]
    }
   ],
   "source": [
    "# 重みを出力（ElasticNet）\n",
    "print(model_lasso_1.coef_)\n",
    "print(model_lasso_2.coef_)\n",
    "print(model_lasso_3.coef_)"
   ]
  },
  {
   "cell_type": "code",
   "execution_count": 49,
   "metadata": {},
   "outputs": [
    {
     "name": "stdout",
     "output_type": "stream",
     "text": [
      "1次\n",
      "train: 0.806564\n",
      "test : 0.818077\n",
      "2次\n",
      "train: 0.854\n",
      "test : 0.864\n",
      "3次\n",
      "train: 0.865\n",
      "test : 0.867\n",
      "\n",
      "1次\n",
      "train: 3496.398\n",
      "test : 3470.535\n",
      "2次\n",
      "train: 3037.720\n",
      "test : 2998.673\n",
      "3次\n",
      "train: 2924.417\n",
      "test : 2968.479\n"
     ]
    }
   ],
   "source": [
    "# 自由度調整済み決定係数\n",
    "# (決定係数, trainまたはtestのサンプル数, 利用した特徴量の数)\n",
    "def adjusted(score, n_sample, n_features):\n",
    "    adjusted_score = 1 - (1 - score) * ((n_sample - 1) / (n_sample - n_features - 1))\n",
    "    return adjusted_score\n",
    "#1次関数\n",
    "print('1次')\n",
    "print('train: %3f' % adjusted(model_lasso_1.score(x_train, y_train), len(y_train), 2))\n",
    "print('test : %3f' % adjusted(model_lasso_1.score(x_test, y_test), len(y_test), 2))\n",
    "# 2次関数\n",
    "print('2次')\n",
    "print('train: %.3f' % adjusted(model_lasso_2.score(x_quad_train, y_train), len(y_train), 3))\n",
    "print('test : %.3f' % adjusted(model_lasso_2.score(x_quad_test, y_test), len(y_test), 3))\n",
    "# 3次関数\n",
    "print('3次')\n",
    "print('train: %.3f' % adjusted(model_lasso_3.score(x_cubic_train, y_train), len(y_train), 3))\n",
    "print('test : %.3f' % adjusted(model_lasso_3.score(x_cubic_test, y_test), len(y_test), 3))\n",
    "print('')\n",
    "\n",
    "# MSEを出力する関数を読み込む\n",
    "from sklearn.metrics import mean_squared_error as mse\n",
    "\n",
    "#1次関数\n",
    "print('1次')\n",
    "print('train: %.3f' % (mse(y_train, model_lasso_1.predict(x_train)) ** (1/2)))\n",
    "print('test : %.3f' % (mse(y_test, model_lasso_1.predict(x_test)) ** (1/2)))\n",
    "#2次関数\n",
    "print('2次')\n",
    "print('train: %.3f' % (mse(y_train, model_lasso_2.predict(x_quad_train)) ** (1/2)))\n",
    "print('test : %.3f' % (mse(y_test, model_lasso_2.predict(x_quad_test)) ** (1/2)))\n",
    "#3次関数\n",
    "print('3次')\n",
    "print('train: %.3f' % (mse(y_train, model_lasso_3.predict(x_cubic_train)) ** (1/2)))\n",
    "print('test : %.3f' % (mse(y_test, model_lasso_3.predict(x_cubic_test)) ** (1/2)))"
   ]
  },
  {
   "cell_type": "code",
   "execution_count": 50,
   "metadata": {},
   "outputs": [],
   "source": [
    "x_test_quad = quad.fit_transform(test_df_pickup)\n",
    "y_pred=model_lasso_2.predict(x_test_quad).reshape(-1)\n",
    "submit_file = pd.DataFrame({'id' : test_df['id'], 'y' : y_pred})\n",
    "submit_file.to_csv('submit_4.csv', index = False)"
   ]
  },
  {
   "cell_type": "code",
   "execution_count": null,
   "metadata": {},
   "outputs": [],
   "source": [
    "#結果3701...→最初の方法が一番よい精度が出た"
   ]
  }
 ],
 "metadata": {
  "kernelspec": {
   "display_name": "Python 3",
   "language": "python",
   "name": "python3"
  },
  "language_info": {
   "codemirror_mode": {
    "name": "ipython",
    "version": 3
   },
   "file_extension": ".py",
   "mimetype": "text/x-python",
   "name": "python",
   "nbconvert_exporter": "python",
   "pygments_lexer": "ipython3",
   "version": "3.6.5"
  }
 },
 "nbformat": 4,
 "nbformat_minor": 2
}
